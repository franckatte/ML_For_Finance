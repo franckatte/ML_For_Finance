{
 "cells": [
  {
   "cell_type": "code",
   "execution_count": 1,
   "metadata": {},
   "outputs": [],
   "source": [
    "import numpy as np\n",
    "import pandas as pd\n",
    "import matplotlib.pyplot as plt\n",
    "from data_cleaning import load_trade\n",
    "from refreshTime import refresh_time, test_date"
   ]
  },
  {
   "cell_type": "code",
   "execution_count": 2,
   "metadata": {},
   "outputs": [],
   "source": [
    "Date = pd.bdate_range('2010-01-01','2010-12-31')\n",
    "Market_name = np.array(['AAPL.OQ','AMGN.OQ','AXP.N','BA.N','CAT.N','CSCO.OQ','CVX.N','DOW.N','GS.N','SPY.P','UTX.N','V.N','WMT.N'])\n",
    "\n",
    "#folder_path = 'D:/GitHub/ML_For_Finance/big data/data/data/'\n",
    "\n",
    "folder_path = '/Users/franckatteaka/Desktop/cours/Semester III/Financial big data/high freq data/'"
   ]
  },
  {
   "cell_type": "code",
   "execution_count": 3,
   "metadata": {},
   "outputs": [],
   "source": [
    "aapl = load_trade(Market_name[0],Date[7],folder_path,is_compressed = True)\n",
    "amgn = load_trade(Market_name[1],Date[7],folder_path,is_compressed = True)\n",
    "axpn = load_trade(Market_name[2],Date[7],folder_path,is_compressed = True)"
   ]
  },
  {
   "cell_type": "code",
   "execution_count": 9,
   "metadata": {},
   "outputs": [
    {
     "name": "stdout",
     "output_type": "stream",
     "text": [
      "True\n",
      "False\n",
      "[26250, 12444, 8533]\n",
      "True\n",
      "False\n",
      "[26249, 12443, 8530]\n",
      "True\n",
      "False\n",
      "[26240, 12442, 8529]\n",
      "True\n",
      "False\n",
      "[26197, 12438, 8528]\n",
      "True\n",
      "False\n",
      "[26192, 12437, 8527]\n",
      "True\n",
      "False\n",
      "[26122, 12416, 8526]\n",
      "True\n",
      "False\n",
      "[26121, 12415, 8525]\n",
      "True\n",
      "False\n",
      "[26078, 12397, 8524]\n",
      "True\n",
      "False\n",
      "[26077, 12395, 8523]\n",
      "True\n",
      "False\n",
      "[26068, 12393, 8522]\n",
      "True\n",
      "False\n",
      "[26056, 12386, 8521]\n",
      "True\n",
      "False\n",
      "[26051, 12385, 8519]\n",
      "True\n",
      "False\n",
      "[26036, 12380, 8518]\n",
      "True\n",
      "False\n",
      "[26035, 12379, 8517]\n",
      "True\n",
      "False\n",
      "[26034, 12377, 8516]\n",
      "True\n",
      "False\n",
      "[26033, 12376, 8515]\n",
      "True\n",
      "False\n",
      "[26018, 12365, 8514]\n",
      "True\n",
      "False\n",
      "[26016, 12364, 8513]\n",
      "True\n",
      "False\n",
      "[26005, 12363, 8512]\n",
      "True\n",
      "False\n",
      "[25992, 12362, 8511]\n",
      "True\n",
      "False\n",
      "[25987, 12354, 8510]\n",
      "True\n",
      "False\n",
      "[25986, 12353, 8507]\n",
      "True\n",
      "False\n",
      "[25983, 12349, 8506]\n",
      "True\n",
      "False\n",
      "[25980, 12345, 8505]\n",
      "True\n",
      "False\n",
      "[25976, 12344, 8503]\n",
      "True\n",
      "False\n",
      "[25975, 12341, 8502]\n",
      "True\n",
      "False\n",
      "[25974, 12336, 8501]\n",
      "True\n",
      "False\n",
      "[25972, 12326, 8500]\n",
      "True\n",
      "False\n",
      "[25957, 12325, 8499]\n",
      "True\n",
      "False\n",
      "[25956, 12323, 8498]\n",
      "True\n",
      "False\n",
      "[25955, 12320, 8497]\n",
      "True\n",
      "False\n",
      "[25925, 12314, 8496]\n",
      "True\n",
      "False\n",
      "[25906, 12313, 8488]\n",
      "True\n",
      "False\n",
      "[25901, 12311, 8487]\n",
      "True\n",
      "False\n",
      "[25900, 12309, 8486]\n",
      "True\n",
      "False\n",
      "[25899, 12308, 8485]\n",
      "True\n",
      "False\n",
      "[25889, 12306, 8484]\n",
      "True\n",
      "False\n",
      "[25881, 12305, 8478]\n",
      "True\n",
      "False\n",
      "[25866, 12298, 8477]\n",
      "True\n",
      "False\n",
      "[25863, 12297, 8473]\n",
      "True\n",
      "False\n",
      "[25861, 12295, 8472]\n",
      "True\n",
      "False\n",
      "[25749, 12294, 8463]\n",
      "True\n",
      "False\n",
      "[25738, 12293, 8462]\n",
      "True\n",
      "False\n",
      "[25736, 12292, 8461]\n",
      "True\n",
      "False\n",
      "[25718, 12288, 8460]\n",
      "True\n",
      "False\n",
      "[25709, 12282, 8459]\n",
      "True\n",
      "False\n",
      "[25693, 12281, 8446]\n",
      "True\n",
      "False\n",
      "[25685, 12279, 8445]\n",
      "True\n",
      "False\n",
      "[25684, 12276, 8444]\n",
      "True\n",
      "False\n",
      "[25670, 12275, 8442]\n",
      "True\n",
      "False\n",
      "[25664, 12274, 8438]\n",
      "True\n",
      "False\n",
      "[25660, 12268, 8437]\n",
      "True\n",
      "False\n",
      "[25653, 12267, 8436]\n",
      "True\n",
      "False\n",
      "[25652, 12265, 8435]\n",
      "True\n",
      "False\n",
      "[25642, 12261, 8434]\n",
      "True\n",
      "False\n",
      "[25628, 12260, 8426]\n",
      "True\n",
      "False\n",
      "[25619, 12252, 8425]\n",
      "True\n",
      "False\n",
      "[25609, 12251, 8424]\n",
      "True\n",
      "False\n",
      "[25603, 12247, 8423]\n",
      "True\n",
      "False\n",
      "[25592, 12246, 8415]\n",
      "True\n",
      "False\n",
      "[25587, 12244, 8414]\n",
      "True\n",
      "False\n",
      "[25584, 12243, 8413]\n",
      "True\n",
      "False\n",
      "[25576, 12242, 8410]\n",
      "True\n",
      "False\n",
      "[25553, 12241, 8407]\n",
      "True\n",
      "False\n",
      "[25551, 12240, 8405]\n",
      "True\n",
      "False\n",
      "[25550, 12239, 8399]\n",
      "True\n",
      "False\n",
      "[25548, 12238, 8398]\n",
      "True\n",
      "False\n",
      "[25543, 12237, 8395]\n",
      "True\n",
      "False\n",
      "[25540, 12233, 8394]\n",
      "True\n",
      "False\n",
      "[25539, 12232, 8387]\n",
      "True\n",
      "False\n",
      "[25534, 12227, 8386]\n",
      "True\n",
      "False\n",
      "[25532, 12225, 8385]\n",
      "True\n",
      "False\n",
      "[25520, 12224, 8383]\n",
      "True\n",
      "False\n",
      "[25517, 12219, 8382]\n",
      "True\n",
      "False\n",
      "[25516, 12215, 8380]\n",
      "True\n"
     ]
    },
    {
     "ename": "KeyboardInterrupt",
     "evalue": "",
     "output_type": "error",
     "traceback": [
      "\u001b[0;31m---------------------------------------------------------------------------\u001b[0m",
      "\u001b[0;31mKeyboardInterrupt\u001b[0m                         Traceback (most recent call last)",
      "\u001b[0;32m<ipython-input-9-1b0aec3e6a01>\u001b[0m in \u001b[0;36m<module>\u001b[0;34m\u001b[0m\n\u001b[0;32m----> 1\u001b[0;31m \u001b[0mtau\u001b[0m \u001b[0;34m=\u001b[0m \u001b[0mrefresh_time\u001b[0m\u001b[0;34m(\u001b[0m\u001b[0;34m[\u001b[0m\u001b[0maapl\u001b[0m\u001b[0;34m,\u001b[0m\u001b[0mamgn\u001b[0m\u001b[0;34m,\u001b[0m\u001b[0maxpn\u001b[0m\u001b[0;34m]\u001b[0m\u001b[0;34m)\u001b[0m\u001b[0;34m\u001b[0m\u001b[0;34m\u001b[0m\u001b[0m\n\u001b[0m",
      "\u001b[0;32m~/Desktop/cours/Semester III/Courses Projects/big data/Code/refreshTime.py\u001b[0m in \u001b[0;36mrefresh_time\u001b[0;34m(dfs)\u001b[0m\n\u001b[1;32m     34\u001b[0m         \u001b[0mprint\u001b[0m\u001b[0;34m(\u001b[0m\u001b[0mtest_date\u001b[0m\u001b[0;34m(\u001b[0m\u001b[0mdates\u001b[0m\u001b[0;34m)\u001b[0m \u001b[0;34m<\u001b[0m \u001b[0;36m1\u001b[0m\u001b[0;34m)\u001b[0m\u001b[0;34m\u001b[0m\u001b[0;34m\u001b[0m\u001b[0m\n\u001b[1;32m     35\u001b[0m         \u001b[0;31m# append refresh date\u001b[0m\u001b[0;34m\u001b[0m\u001b[0;34m\u001b[0m\u001b[0;34m\u001b[0m\u001b[0m\n\u001b[0;32m---> 36\u001b[0;31m         \u001b[0mtau\u001b[0m\u001b[0;34m.\u001b[0m\u001b[0mappend\u001b[0m\u001b[0;34m(\u001b[0m\u001b[0mmax\u001b[0m\u001b[0;34m(\u001b[0m\u001b[0;34m[\u001b[0m\u001b[0mmin\u001b[0m\u001b[0;34m(\u001b[0m\u001b[0mdate\u001b[0m\u001b[0;34m)\u001b[0m \u001b[0;32mfor\u001b[0m \u001b[0mdate\u001b[0m \u001b[0;32min\u001b[0m \u001b[0mdates\u001b[0m\u001b[0;34m]\u001b[0m\u001b[0;34m)\u001b[0m\u001b[0;34m)\u001b[0m\u001b[0;34m\u001b[0m\u001b[0;34m\u001b[0m\u001b[0m\n\u001b[0m\u001b[1;32m     37\u001b[0m \u001b[0;34m\u001b[0m\u001b[0m\n\u001b[1;32m     38\u001b[0m         \u001b[0;31m#update dates\u001b[0m\u001b[0;34m\u001b[0m\u001b[0;34m\u001b[0m\u001b[0;34m\u001b[0m\u001b[0m\n",
      "\u001b[0;32m~/Desktop/cours/Semester III/Courses Projects/big data/Code/refreshTime.py\u001b[0m in \u001b[0;36m<listcomp>\u001b[0;34m(.0)\u001b[0m\n\u001b[1;32m     34\u001b[0m         \u001b[0mprint\u001b[0m\u001b[0;34m(\u001b[0m\u001b[0mtest_date\u001b[0m\u001b[0;34m(\u001b[0m\u001b[0mdates\u001b[0m\u001b[0;34m)\u001b[0m \u001b[0;34m<\u001b[0m \u001b[0;36m1\u001b[0m\u001b[0;34m)\u001b[0m\u001b[0;34m\u001b[0m\u001b[0;34m\u001b[0m\u001b[0m\n\u001b[1;32m     35\u001b[0m         \u001b[0;31m# append refresh date\u001b[0m\u001b[0;34m\u001b[0m\u001b[0;34m\u001b[0m\u001b[0;34m\u001b[0m\u001b[0m\n\u001b[0;32m---> 36\u001b[0;31m         \u001b[0mtau\u001b[0m\u001b[0;34m.\u001b[0m\u001b[0mappend\u001b[0m\u001b[0;34m(\u001b[0m\u001b[0mmax\u001b[0m\u001b[0;34m(\u001b[0m\u001b[0;34m[\u001b[0m\u001b[0mmin\u001b[0m\u001b[0;34m(\u001b[0m\u001b[0mdate\u001b[0m\u001b[0;34m)\u001b[0m \u001b[0;32mfor\u001b[0m \u001b[0mdate\u001b[0m \u001b[0;32min\u001b[0m \u001b[0mdates\u001b[0m\u001b[0;34m]\u001b[0m\u001b[0;34m)\u001b[0m\u001b[0;34m)\u001b[0m\u001b[0;34m\u001b[0m\u001b[0;34m\u001b[0m\u001b[0m\n\u001b[0m\u001b[1;32m     37\u001b[0m \u001b[0;34m\u001b[0m\u001b[0m\n\u001b[1;32m     38\u001b[0m         \u001b[0;31m#update dates\u001b[0m\u001b[0;34m\u001b[0m\u001b[0;34m\u001b[0m\u001b[0;34m\u001b[0m\u001b[0m\n",
      "\u001b[0;32m/opt/anaconda3/lib/python3.7/site-packages/pandas/core/arrays/datetimes.py\u001b[0m in \u001b[0;36m__iter__\u001b[0;34m(self)\u001b[0m\n\u001b[1;32m    572\u001b[0m             \u001b[0mend_i\u001b[0m \u001b[0;34m=\u001b[0m \u001b[0mmin\u001b[0m\u001b[0;34m(\u001b[0m\u001b[0;34m(\u001b[0m\u001b[0mi\u001b[0m \u001b[0;34m+\u001b[0m \u001b[0;36m1\u001b[0m\u001b[0;34m)\u001b[0m \u001b[0;34m*\u001b[0m \u001b[0mchunksize\u001b[0m\u001b[0;34m,\u001b[0m \u001b[0mlength\u001b[0m\u001b[0;34m)\u001b[0m\u001b[0;34m\u001b[0m\u001b[0;34m\u001b[0m\u001b[0m\n\u001b[1;32m    573\u001b[0m             converted = tslib.ints_to_pydatetime(\n\u001b[0;32m--> 574\u001b[0;31m                 \u001b[0mdata\u001b[0m\u001b[0;34m[\u001b[0m\u001b[0mstart_i\u001b[0m\u001b[0;34m:\u001b[0m\u001b[0mend_i\u001b[0m\u001b[0;34m]\u001b[0m\u001b[0;34m,\u001b[0m \u001b[0mtz\u001b[0m\u001b[0;34m=\u001b[0m\u001b[0mself\u001b[0m\u001b[0;34m.\u001b[0m\u001b[0mtz\u001b[0m\u001b[0;34m,\u001b[0m \u001b[0mfreq\u001b[0m\u001b[0;34m=\u001b[0m\u001b[0mself\u001b[0m\u001b[0;34m.\u001b[0m\u001b[0mfreq\u001b[0m\u001b[0;34m,\u001b[0m \u001b[0mbox\u001b[0m\u001b[0;34m=\u001b[0m\u001b[0;34m\"timestamp\"\u001b[0m\u001b[0;34m\u001b[0m\u001b[0;34m\u001b[0m\u001b[0m\n\u001b[0m\u001b[1;32m    575\u001b[0m             )\n\u001b[1;32m    576\u001b[0m             \u001b[0;32mfor\u001b[0m \u001b[0mv\u001b[0m \u001b[0;32min\u001b[0m \u001b[0mconverted\u001b[0m\u001b[0;34m:\u001b[0m\u001b[0;34m\u001b[0m\u001b[0;34m\u001b[0m\u001b[0m\n",
      "\u001b[0;31mKeyboardInterrupt\u001b[0m: "
     ]
    }
   ],
   "source": [
    "tau = refresh_time([aapl,amgn,axp])"
   ]
  },
  {
   "cell_type": "code",
   "execution_count": 7,
   "metadata": {},
   "outputs": [
    {
     "data": {
      "text/plain": [
       "False"
      ]
     },
     "execution_count": 7,
     "metadata": {},
     "output_type": "execute_result"
    }
   ],
   "source": [
    "0 in [1,1,2]"
   ]
  },
  {
   "cell_type": "code",
   "execution_count": 6,
   "metadata": {},
   "outputs": [
    {
     "data": {
      "text/plain": [
       "0"
      ]
     },
     "execution_count": 6,
     "metadata": {},
     "output_type": "execute_result"
    }
   ],
   "source": [
    " test_date(np.array([[],[1,2],[1,2]]))"
   ]
  },
  {
   "cell_type": "code",
   "execution_count": null,
   "metadata": {},
   "outputs": [],
   "source": [
    "np.along_axis"
   ]
  },
  {
   "cell_type": "code",
   "execution_count": null,
   "metadata": {},
   "outputs": [],
   "source": [
    "def synchronize(dfs):\n",
    "    "
   ]
  },
  {
   "cell_type": "code",
   "execution_count": 173,
   "metadata": {},
   "outputs": [
    {
     "data": {
      "text/plain": [
       "(261,)"
      ]
     },
     "execution_count": 173,
     "metadata": {},
     "output_type": "execute_result"
    }
   ],
   "source": [
    "for tau in refreshtimes:\n",
    "    \n",
    "    "
   ]
  },
  {
   "cell_type": "code",
   "execution_count": 14,
   "metadata": {},
   "outputs": [
    {
     "data": {
      "text/plain": [
       "DatetimeIndex(['2010-01-12 09:30:00.035020800-05:00',\n",
       "               '2010-01-12 09:30:00.132998400-05:00',\n",
       "                  '2010-01-12 09:30:00.176976-05:00',\n",
       "                  '2010-01-12 09:30:00.176976-05:00',\n",
       "               '2010-01-12 09:30:00.186998400-05:00'],\n",
       "              dtype='datetime64[ns, America/New_York]', name='xltime', freq=None)"
      ]
     },
     "execution_count": 14,
     "metadata": {},
     "output_type": "execute_result"
    }
   ],
   "source": [
    "aapl.iloc[0:5].index"
   ]
  },
  {
   "cell_type": "code",
   "execution_count": 15,
   "metadata": {},
   "outputs": [
    {
     "data": {
      "text/plain": [
       "DatetimeIndex(['2010-01-12 09:30:00.202982399-05:00',\n",
       "               '2010-01-12 09:30:00.202982399-05:00',\n",
       "               '2010-01-12 09:30:00.261993599-05:00',\n",
       "               '2010-01-12 09:30:00.261993599-05:00',\n",
       "               '2010-01-12 09:30:00.261993599-05:00'],\n",
       "              dtype='datetime64[ns, America/New_York]', name='xltime', freq=None)"
      ]
     },
     "execution_count": 15,
     "metadata": {},
     "output_type": "execute_result"
    }
   ],
   "source": [
    "amgn.iloc[0:5].index"
   ]
  },
  {
   "cell_type": "code",
   "execution_count": 16,
   "metadata": {},
   "outputs": [
    {
     "data": {
      "text/plain": [
       "DatetimeIndex(['2010-01-12 09:30:20.130969600-05:00',\n",
       "               '2010-01-12 09:30:20.161036800-05:00',\n",
       "               '2010-01-12 09:30:20.179958399-05:00',\n",
       "               '2010-01-12 09:30:20.315001600-05:00',\n",
       "               '2010-01-12 09:30:22.475001600-05:00'],\n",
       "              dtype='datetime64[ns, America/New_York]', name='xltime', freq=None)"
      ]
     },
     "execution_count": 16,
     "metadata": {},
     "output_type": "execute_result"
    }
   ],
   "source": [
    "axpn.iloc[0:5].index"
   ]
  },
  {
   "cell_type": "code",
   "execution_count": null,
   "metadata": {},
   "outputs": [],
   "source": []
  }
 ],
 "metadata": {
  "kernelspec": {
   "display_name": "Python 3",
   "language": "python",
   "name": "python3"
  },
  "language_info": {
   "codemirror_mode": {
    "name": "ipython",
    "version": 3
   },
   "file_extension": ".py",
   "mimetype": "text/x-python",
   "name": "python",
   "nbconvert_exporter": "python",
   "pygments_lexer": "ipython3",
   "version": "3.7.7"
  }
 },
 "nbformat": 4,
 "nbformat_minor": 4
}
