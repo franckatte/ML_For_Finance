{
 "cells": [
  {
   "cell_type": "code",
   "execution_count": 1,
   "metadata": {},
   "outputs": [],
   "source": [
    "import numpy as np\n",
    "import pandas as pd\n",
    "import matplotlib.pyplot as plt\n",
    "from data_cleaning import load_trade\n",
    "from refreshTime import refresh_time, test_date, resample,synchro_data,harmoniz_data\n",
    "from Clustering import get_clusters\n",
    "from GMVP import get_GMVP,Louvain_GMVP,get_profit_vanilla"
   ]
  },
  {
   "cell_type": "code",
   "execution_count": 2,
   "metadata": {},
   "outputs": [],
   "source": [
    "Date = pd.bdate_range('2010-01-01','2010-12-31')\n",
    "Market_name = np.array(['AAPL.OQ','AMGN.OQ','AXP.N','BA.N','CAT.N','CSCO.OQ','CVX.N','DOW.N','GS.N','SPY.P','UTX.N','V.N','WMT.N'])\n",
    "\n",
    "#folder_path = 'D:/GitHub/ML_For_Finance/big data/data/data/'\n",
    "\n",
    "folder_path ='D:/GitHub/ML for Finance project/ML_For_Finance/big data/Data/data/'\n",
    "#folder_path = '/Users/franckatteaka/Desktop/cours/Semester III/Financial big data/high freq data/'"
   ]
  },
  {
   "cell_type": "code",
   "execution_count": 3,
   "metadata": {},
   "outputs": [],
   "source": [
    "aapl = load_trade(Market_name[0],Date[7],folder_path,is_compressed = True)\n",
    "amgn = load_trade(Market_name[1],Date[7],folder_path,is_compressed = True)\n",
    "axpn = load_trade(Market_name[2],Date[7],folder_path,is_compressed = True)"
   ]
  },
  {
   "cell_type": "code",
   "execution_count": 4,
   "metadata": {},
   "outputs": [],
   "source": [
    "test1= [aapl.iloc[:1000],amgn.iloc[:1000],axpn.iloc[:1000]]"
   ]
  },
  {
   "cell_type": "code",
   "execution_count": 3,
   "metadata": {},
   "outputs": [],
   "source": [
    "test2=[]\n",
    "for i in range(len(Market_name)):\n",
    "    data0=load_trade(Market_name[i],Date[101],folder_path,is_compressed = True)\n",
    "    test2.append(data0)"
   ]
  },
  {
   "cell_type": "code",
   "execution_count": null,
   "metadata": {},
   "outputs": [],
   "source": []
  },
  {
   "cell_type": "code",
   "execution_count": 4,
   "metadata": {},
   "outputs": [
    {
     "name": "stderr",
     "output_type": "stream",
     "text": [
      "D:\\GitHub\\ML for Finance project\\ML_For_Finance\\big data\\Code\\refreshTime.py:33: VisibleDeprecationWarning: Creating an ndarray from ragged nested sequences (which is a list-or-tuple of lists-or-tuples-or ndarrays with different lengths or shapes) is deprecated. If you meant to do this, you must specify 'dtype=object' when creating the ndarray\n",
      "  dates = np.array([df.index.drop_duplicates(keep = 'last') for df in dfs])\n",
      "D:\\GitHub\\ML for Finance project\\ML_For_Finance\\big data\\Code\\refreshTime.py:43: VisibleDeprecationWarning: Creating an ndarray from ragged nested sequences (which is a list-or-tuple of lists-or-tuples-or ndarrays with different lengths or shapes) is deprecated. If you meant to do this, you must specify 'dtype=object' when creating the ndarray\n",
      "  dates = np.array([date[np.where(date > tau[-1])[0]] for date in dates ])\n"
     ]
    }
   ],
   "source": [
    "data1=harmoniz_data(test2)"
   ]
  },
  {
   "cell_type": "code",
   "execution_count": 5,
   "metadata": {},
   "outputs": [
    {
     "data": {
      "text/plain": [
       "array([-0.00718018])"
      ]
     },
     "execution_count": 5,
     "metadata": {},
     "output_type": "execute_result"
    }
   ],
   "source": [
    "louvain_test = Louvain_GMVP(data1)\n",
    "louvain_test.get_return(test2,Market_name)\n",
    "louvain_test.retour"
   ]
  },
  {
   "cell_type": "code",
   "execution_count": 6,
   "metadata": {},
   "outputs": [
    {
     "data": {
      "text/plain": [
       "array([0.01109193])"
      ]
     },
     "execution_count": 6,
     "metadata": {},
     "output_type": "execute_result"
    }
   ],
   "source": [
    "vanilla_weight,_,_= get_GMVP(data1)\n",
    "get_profit_vanilla(vanilla_weight,test2)"
   ]
  },
  {
   "cell_type": "code",
   "execution_count": null,
   "metadata": {},
   "outputs": [],
   "source": []
  },
  {
   "cell_type": "code",
   "execution_count": 11,
   "metadata": {},
   "outputs": [
    {
     "data": {
      "text/plain": [
       "array([0.08038539])"
      ]
     },
     "execution_count": 11,
     "metadata": {},
     "output_type": "execute_result"
    }
   ],
   "source": [
    "louvain_test = Louvain_GMVP(data1)\n",
    "louvain_test.get_profit(test2,Market_name)\n",
    "louvain_test.profit"
   ]
  },
  {
   "cell_type": "code",
   "execution_count": 12,
   "metadata": {},
   "outputs": [
    {
     "data": {
      "text/plain": [
       "array([0.27925532])"
      ]
     },
     "execution_count": 12,
     "metadata": {},
     "output_type": "execute_result"
    }
   ],
   "source": [
    "vanilla_weight,_,_= get_GMVP(data1)\n",
    "get_profit_vanilla(vanilla_weight,test2)"
   ]
  },
  {
   "cell_type": "code",
   "execution_count": null,
   "metadata": {},
   "outputs": [],
   "source": []
  },
  {
   "cell_type": "code",
   "execution_count": 14,
   "metadata": {},
   "outputs": [
    {
     "data": {
      "text/plain": [
       "1.0000000000000002"
      ]
     },
     "execution_count": 14,
     "metadata": {},
     "output_type": "execute_result"
    }
   ],
   "source": [
    "sum(vanilla_weight)"
   ]
  },
  {
   "cell_type": "code",
   "execution_count": 11,
   "metadata": {},
   "outputs": [
    {
     "data": {
      "text/plain": [
       "DatetimeIndex(['2010-01-01', '2010-01-04', '2010-01-05', '2010-01-06',\n",
       "               '2010-01-07', '2010-01-08', '2010-01-11', '2010-01-12',\n",
       "               '2010-01-13', '2010-01-14',\n",
       "               ...\n",
       "               '2010-12-20', '2010-12-21', '2010-12-22', '2010-12-23',\n",
       "               '2010-12-24', '2010-12-27', '2010-12-28', '2010-12-29',\n",
       "               '2010-12-30', '2010-12-31'],\n",
       "              dtype='datetime64[ns]', length=261, freq='B')"
      ]
     },
     "execution_count": 11,
     "metadata": {},
     "output_type": "execute_result"
    }
   ],
   "source": [
    "Date"
   ]
  },
  {
   "cell_type": "code",
   "execution_count": 1,
   "metadata": {},
   "outputs": [],
   "source": [
    "import numpy as np\n",
    "import pandas as pd\n",
    "import matplotlib.pyplot as plt\n",
    "from back_test import daily_back_testing"
   ]
  },
  {
   "cell_type": "code",
   "execution_count": 2,
   "metadata": {},
   "outputs": [],
   "source": [
    "Date = pd.bdate_range('2010-01-01','2010-12-31')\n",
    "Market_name = np.array(['AAPL.OQ','AMGN.OQ','AXP.N','BA.N','CAT.N','CSCO.OQ','CVX.N','DOW.N','GS.N','SPY.P','UTX.N','V.N','WMT.N'])\n",
    "\n",
    "#folder_path = 'D:/GitHub/ML_For_Finance/big data/data/data/'\n",
    "\n",
    "folder_path ='D:/GitHub/ML for Finance project/ML_For_Finance/big data/Data/data/'\n",
    "#folder_path = '/Users/franckatteaka/Desktop/cours/Semester III/Financial big data/high freq data/'"
   ]
  },
  {
   "cell_type": "code",
   "execution_count": 3,
   "metadata": {},
   "outputs": [],
   "source": [
    "nday_init=40\n",
    "nday_end=70\n",
    "backtesting1=daily_back_testing(Market_name,folder_path,Date[nday_init])\n"
   ]
  },
  {
   "cell_type": "code",
   "execution_count": null,
   "metadata": {},
   "outputs": [
    {
     "name": "stdout",
     "output_type": "stream",
     "text": [
      "avancement : 0.033333 \n",
      "avancement : 0.066667 \n",
      "avancement : 0.100000 \n",
      "avancement : 0.133333 \n",
      "avancement : 0.166667 \n",
      "avancement : 0.200000 \n",
      "avancement : 0.233333 \n",
      "avancement : 0.266667 \n",
      "avancement : 0.300000 \n",
      "avancement : 0.333333 \n",
      "avancement : 0.366667 \n",
      "avancement : 0.400000 \n",
      "avancement : 0.433333 \n",
      "avancement : 0.466667 \n",
      "avancement : 0.500000 \n",
      "avancement : 0.533333 \n",
      "avancement : 0.566667 \n",
      "avancement : 0.600000 \n",
      "avancement : 0.633333 \n",
      "avancement : 0.666667 \n",
      "avancement : 0.700000 \n",
      "avancement : 0.733333 \n"
     ]
    }
   ],
   "source": [
    "l=nday_end-nday_init\n",
    "for i in range(nday_init+1,nday_end+1):\n",
    "    backtesting1.daily_update(Date[i])\n",
    "    print('avancement : %f '%((i-nday_init)/l))"
   ]
  },
  {
   "cell_type": "code",
   "execution_count": null,
   "metadata": {},
   "outputs": [],
   "source": []
  },
  {
   "cell_type": "code",
   "execution_count": null,
   "metadata": {},
   "outputs": [],
   "source": []
  },
  {
   "cell_type": "code",
   "execution_count": null,
   "metadata": {},
   "outputs": [],
   "source": [
    "backtesting1.plot_value()"
   ]
  },
  {
   "cell_type": "code",
   "execution_count": null,
   "metadata": {},
   "outputs": [],
   "source": [
    "backtesting1.V_louvain"
   ]
  },
  {
   "cell_type": "code",
   "execution_count": null,
   "metadata": {},
   "outputs": [],
   "source": [
    "backtesting1.V_vanilla"
   ]
  },
  {
   "cell_type": "code",
   "execution_count": null,
   "metadata": {},
   "outputs": [],
   "source": [
    "backtesting1.correlation/backtesting1.nombre_test"
   ]
  },
  {
   "cell_type": "code",
   "execution_count": null,
   "metadata": {},
   "outputs": [],
   "source": [
    "backtesting1.louvain_cluster/backtesting1.nombre_test"
   ]
  },
  {
   "cell_type": "code",
   "execution_count": null,
   "metadata": {},
   "outputs": [],
   "source": [
    "backtesting1.louvain_return"
   ]
  },
  {
   "cell_type": "code",
   "execution_count": null,
   "metadata": {},
   "outputs": [],
   "source": [
    "backtesting1.vanilla_return"
   ]
  },
  {
   "cell_type": "code",
   "execution_count": null,
   "metadata": {},
   "outputs": [],
   "source": []
  }
 ],
 "metadata": {
  "kernelspec": {
   "display_name": "Python 3",
   "language": "python",
   "name": "python3"
  },
  "language_info": {
   "codemirror_mode": {
    "name": "ipython",
    "version": 3
   },
   "file_extension": ".py",
   "mimetype": "text/x-python",
   "name": "python",
   "nbconvert_exporter": "python",
   "pygments_lexer": "ipython3",
   "version": "3.7.9"
  }
 },
 "nbformat": 4,
 "nbformat_minor": 4
}
