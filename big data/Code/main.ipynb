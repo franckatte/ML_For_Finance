{
 "cells": [
  {
   "cell_type": "code",
   "execution_count": 1,
   "metadata": {},
   "outputs": [],
   "source": [
    "import numpy as np\n",
    "import pandas as pd\n",
    "import matplotlib.pyplot as plt\n",
    "from data_cleaning import load_trade\n",
    "from refreshTime import refresh_time, test_date, resample"
   ]
  },
  {
   "cell_type": "code",
   "execution_count": 2,
   "metadata": {},
   "outputs": [],
   "source": [
    "Date = pd.bdate_range('2010-01-01','2010-12-31')\n",
    "Market_name = np.array(['AAPL.OQ','AMGN.OQ','AXP.N','BA.N','CAT.N','CSCO.OQ','CVX.N','DOW.N','GS.N','SPY.P','UTX.N','V.N','WMT.N'])\n",
    "\n",
    "#folder_path = 'D:/GitHub/ML_For_Finance/big data/data/data/'\n",
    "\n",
    "folder_path = '/Users/franckatteaka/Desktop/cours/Semester III/Financial big data/high freq data/'"
   ]
  },
  {
   "cell_type": "code",
   "execution_count": 3,
   "metadata": {},
   "outputs": [],
   "source": [
    "aapl = load_trade(Market_name[0],Date[7],folder_path,is_compressed = True)\n",
    "amgn = load_trade(Market_name[1],Date[7],folder_path,is_compressed = True)\n",
    "axpn = load_trade(Market_name[2],Date[7],folder_path,is_compressed = True)"
   ]
  },
  {
   "cell_type": "code",
   "execution_count": 4,
   "metadata": {},
   "outputs": [],
   "source": [
    "tau = refresh_time([aapl,amgn,axpn])"
   ]
  },
  {
   "cell_type": "code",
   "execution_count": 8,
   "metadata": {},
   "outputs": [],
   "source": [
    "date1 = aapl.index"
   ]
  },
  {
   "cell_type": "code",
   "execution_count": null,
   "metadata": {},
   "outputs": [],
   "source": [
    "aapl.loc[~aapl.index.duplicated(keep='last')]"
   ]
  },
  {
   "cell_type": "code",
   "execution_count": 18,
   "metadata": {},
   "outputs": [
    {
     "data": {
      "text/plain": [
       "20949"
      ]
     },
     "execution_count": 18,
     "metadata": {},
     "output_type": "execute_result"
    }
   ],
   "source": [
    "aapl.index.duplicated(keep='last').sum()"
   ]
  },
  {
   "cell_type": "code",
   "execution_count": 23,
   "metadata": {},
   "outputs": [
    {
     "data": {
      "text/plain": [
       "DatetimeIndex(['2010-01-12 09:30:00.035020800-05:00',\n",
       "               '2010-01-12 09:30:00.132998400-05:00',\n",
       "                  '2010-01-12 09:30:00.176976-05:00',\n",
       "               '2010-01-12 09:30:00.186998400-05:00',\n",
       "               '2010-01-12 09:30:00.270028800-05:00',\n",
       "               '2010-01-12 09:30:00.277977600-05:00',\n",
       "               '2010-01-12 09:30:00.575020800-05:00',\n",
       "               '2010-01-12 09:30:00.695980800-05:00',\n",
       "               '2010-01-12 09:30:00.707990399-05:00',\n",
       "               '2010-01-12 09:30:00.709027199-05:00',\n",
       "               ...\n",
       "               '2010-01-12 15:59:59.538019200-05:00',\n",
       "               '2010-01-12 15:59:59.554003200-05:00',\n",
       "               '2010-01-12 15:59:59.557977600-05:00',\n",
       "               '2010-01-12 15:59:59.581996800-05:00',\n",
       "               '2010-01-12 15:59:59.705980800-05:00',\n",
       "               '2010-01-12 15:59:59.717990400-05:00',\n",
       "                  '2010-01-12 15:59:59.771040-05:00',\n",
       "               '2010-01-12 15:59:59.796009600-05:00',\n",
       "                  '2010-01-12 15:59:59.987040-05:00',\n",
       "               '2010-01-12 15:59:59.987990400-05:00'],\n",
       "              dtype='datetime64[ns, America/New_York]', name='xltime', length=26363, freq=None)"
      ]
     },
     "execution_count": 23,
     "metadata": {},
     "output_type": "execute_result"
    }
   ],
   "source": [
    "df.index.drop_duplicates(keep = 'last')"
   ]
  },
  {
   "cell_type": "code",
   "execution_count": null,
   "metadata": {},
   "outputs": [],
   "source": []
  }
 ],
 "metadata": {
  "kernelspec": {
   "display_name": "Python 3",
   "language": "python",
   "name": "python3"
  },
  "language_info": {
   "codemirror_mode": {
    "name": "ipython",
    "version": 3
   },
   "file_extension": ".py",
   "mimetype": "text/x-python",
   "name": "python",
   "nbconvert_exporter": "python",
   "pygments_lexer": "ipython3",
   "version": "3.7.7"
  }
 },
 "nbformat": 4,
 "nbformat_minor": 4
}
