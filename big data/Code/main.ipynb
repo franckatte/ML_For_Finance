{
 "cells": [
  {
   "cell_type": "code",
   "execution_count": 1,
   "metadata": {},
   "outputs": [],
   "source": [
    "import numpy as np\n",
    "import pandas as pd\n",
    "import matplotlib.pyplot as plt\n",
    "from data_cleaning import load_trade\n",
    "from refreshTime import refresh_time, test_date, resample,synchro_data,harmoniz_data\n",
    "from Clustering import get_clusters\n",
    "from GMVP import get_GMVP,Louvain_GMVP,get_profit_vanilla"
   ]
  },
  {
   "cell_type": "code",
   "execution_count": 2,
   "metadata": {},
   "outputs": [],
   "source": [
    "Date = pd.bdate_range('2010-01-01','2010-12-31')\n",
    "Market_name = np.array(['AAPL.OQ','AMGN.OQ','AXP.N','BA.N','CAT.N','CSCO.OQ','CVX.N','DOW.N','GS.N','SPY.P','UTX.N','V.N','WMT.N'])\n",
    "\n",
    "#folder_path = 'D:/GitHub/ML_For_Finance/big data/data/data/'\n",
    "\n",
    "folder_path ='D:/GitHub/ML for Finance project/ML_For_Finance/big data/Data/data/'\n",
    "#folder_path = '/Users/franckatteaka/Desktop/cours/Semester III/Financial big data/high freq data/'"
   ]
  },
  {
   "cell_type": "code",
   "execution_count": 3,
   "metadata": {},
   "outputs": [],
   "source": [
    "aapl = load_trade(Market_name[0],Date[7],folder_path,is_compressed = True)\n",
    "amgn = load_trade(Market_name[1],Date[7],folder_path,is_compressed = True)\n",
    "axpn = load_trade(Market_name[2],Date[7],folder_path,is_compressed = True)"
   ]
  },
  {
   "cell_type": "code",
   "execution_count": 4,
   "metadata": {},
   "outputs": [],
   "source": [
    "test1= [aapl.iloc[:1000],amgn.iloc[:1000],axpn.iloc[:1000]]"
   ]
  },
  {
   "cell_type": "code",
   "execution_count": 3,
   "metadata": {},
   "outputs": [],
   "source": [
    "test2=[]\n",
    "for i in range(len(Market_name)):\n",
    "    data0=load_trade(Market_name[i],Date[101],folder_path,is_compressed = True)\n",
    "    test2.append(data0)"
   ]
  },
  {
   "cell_type": "code",
   "execution_count": null,
   "metadata": {},
   "outputs": [],
   "source": []
  },
  {
   "cell_type": "code",
   "execution_count": 4,
   "metadata": {},
   "outputs": [
    {
     "name": "stderr",
     "output_type": "stream",
     "text": [
      "D:\\GitHub\\ML for Finance project\\ML_For_Finance\\big data\\Code\\refreshTime.py:33: VisibleDeprecationWarning: Creating an ndarray from ragged nested sequences (which is a list-or-tuple of lists-or-tuples-or ndarrays with different lengths or shapes) is deprecated. If you meant to do this, you must specify 'dtype=object' when creating the ndarray\n",
      "  dates = np.array([df.index.drop_duplicates(keep = 'last') for df in dfs])\n",
      "D:\\GitHub\\ML for Finance project\\ML_For_Finance\\big data\\Code\\refreshTime.py:43: VisibleDeprecationWarning: Creating an ndarray from ragged nested sequences (which is a list-or-tuple of lists-or-tuples-or ndarrays with different lengths or shapes) is deprecated. If you meant to do this, you must specify 'dtype=object' when creating the ndarray\n",
      "  dates = np.array([date[np.where(date > tau[-1])[0]] for date in dates ])\n"
     ]
    }
   ],
   "source": [
    "data1=harmoniz_data(test2)"
   ]
  },
  {
   "cell_type": "code",
   "execution_count": 5,
   "metadata": {},
   "outputs": [
    {
     "data": {
      "text/plain": [
       "array([-0.00718018])"
      ]
     },
     "execution_count": 5,
     "metadata": {},
     "output_type": "execute_result"
    }
   ],
   "source": [
    "louvain_test = Louvain_GMVP(data1)\n",
    "louvain_test.get_return(test2,Market_name)\n",
    "louvain_test.retour"
   ]
  },
  {
   "cell_type": "code",
   "execution_count": 6,
   "metadata": {},
   "outputs": [
    {
     "data": {
      "text/plain": [
       "array([0.01109193])"
      ]
     },
     "execution_count": 6,
     "metadata": {},
     "output_type": "execute_result"
    }
   ],
   "source": [
    "vanilla_weight,_,_= get_GMVP(data1)\n",
    "get_profit_vanilla(vanilla_weight,test2)"
   ]
  },
  {
   "cell_type": "code",
   "execution_count": null,
   "metadata": {},
   "outputs": [],
   "source": []
  },
  {
   "cell_type": "code",
   "execution_count": 11,
   "metadata": {},
   "outputs": [
    {
     "data": {
      "text/plain": [
       "array([0.08038539])"
      ]
     },
     "execution_count": 11,
     "metadata": {},
     "output_type": "execute_result"
    }
   ],
   "source": [
    "louvain_test = Louvain_GMVP(data1)\n",
    "louvain_test.get_profit(test2,Market_name)\n",
    "louvain_test.profit"
   ]
  },
  {
   "cell_type": "code",
   "execution_count": 12,
   "metadata": {},
   "outputs": [
    {
     "data": {
      "text/plain": [
       "array([0.27925532])"
      ]
     },
     "execution_count": 12,
     "metadata": {},
     "output_type": "execute_result"
    }
   ],
   "source": [
    "vanilla_weight,_,_= get_GMVP(data1)\n",
    "get_profit_vanilla(vanilla_weight,test2)"
   ]
  },
  {
   "cell_type": "code",
   "execution_count": null,
   "metadata": {},
   "outputs": [],
   "source": []
  },
  {
   "cell_type": "code",
   "execution_count": 14,
   "metadata": {},
   "outputs": [
    {
     "data": {
      "text/plain": [
       "1.0000000000000002"
      ]
     },
     "execution_count": 14,
     "metadata": {},
     "output_type": "execute_result"
    }
   ],
   "source": [
    "sum(vanilla_weight)"
   ]
  },
  {
   "cell_type": "code",
   "execution_count": null,
   "metadata": {},
   "outputs": [],
   "source": []
  },
  {
   "cell_type": "code",
   "execution_count": 1,
   "metadata": {},
   "outputs": [],
   "source": [
    "import numpy as np\n",
    "import pandas as pd\n",
    "import matplotlib.pyplot as plt\n",
    "from back_test import daily_back_testing"
   ]
  },
  {
   "cell_type": "code",
   "execution_count": 2,
   "metadata": {},
   "outputs": [],
   "source": [
    "Date = pd.bdate_range('2010-01-01','2010-12-31')\n",
    "Market_name = np.array(['AAPL.OQ','AMGN.OQ','AXP.N','BA.N','CAT.N','CSCO.OQ','CVX.N','DOW.N','GS.N','SPY.P','UTX.N','V.N','WMT.N'])\n",
    "\n",
    "#folder_path = 'D:/GitHub/ML_For_Finance/big data/data/data/'\n",
    "\n",
    "folder_path ='D:/GitHub/ML for Finance project/ML_For_Finance/big data/Data/data/'\n",
    "#folder_path = '/Users/franckatteaka/Desktop/cours/Semester III/Financial big data/high freq data/'"
   ]
  },
  {
   "cell_type": "code",
   "execution_count": 3,
   "metadata": {},
   "outputs": [],
   "source": [
    "backtesting1=daily_back_testing(Market_name,folder_path,Date[1])"
   ]
  },
  {
   "cell_type": "code",
   "execution_count": 4,
   "metadata": {},
   "outputs": [
    {
     "name": "stderr",
     "output_type": "stream",
     "text": [
      "D:\\GitHub\\ML for Finance project\\ML_For_Finance\\big data\\Code\\refreshTime.py:33: VisibleDeprecationWarning: Creating an ndarray from ragged nested sequences (which is a list-or-tuple of lists-or-tuples-or ndarrays with different lengths or shapes) is deprecated. If you meant to do this, you must specify 'dtype=object' when creating the ndarray\n",
      "  dates = np.array([df.index.drop_duplicates(keep = 'last') for df in dfs])\n",
      "D:\\GitHub\\ML for Finance project\\ML_For_Finance\\big data\\Code\\refreshTime.py:43: VisibleDeprecationWarning: Creating an ndarray from ragged nested sequences (which is a list-or-tuple of lists-or-tuples-or ndarrays with different lengths or shapes) is deprecated. If you meant to do this, you must specify 'dtype=object' when creating the ndarray\n",
      "  dates = np.array([date[np.where(date > tau[-1])[0]] for date in dates ])\n"
     ]
    }
   ],
   "source": [
    "backtesting1.daily_update(Date[2])"
   ]
  },
  {
   "cell_type": "code",
   "execution_count": 5,
   "metadata": {},
   "outputs": [
    {
     "name": "stderr",
     "output_type": "stream",
     "text": [
      "D:\\GitHub\\ML for Finance project\\ML_For_Finance\\big data\\Code\\refreshTime.py:33: VisibleDeprecationWarning: Creating an ndarray from ragged nested sequences (which is a list-or-tuple of lists-or-tuples-or ndarrays with different lengths or shapes) is deprecated. If you meant to do this, you must specify 'dtype=object' when creating the ndarray\n",
      "  dates = np.array([df.index.drop_duplicates(keep = 'last') for df in dfs])\n",
      "D:\\GitHub\\ML for Finance project\\ML_For_Finance\\big data\\Code\\refreshTime.py:43: VisibleDeprecationWarning: Creating an ndarray from ragged nested sequences (which is a list-or-tuple of lists-or-tuples-or ndarrays with different lengths or shapes) is deprecated. If you meant to do this, you must specify 'dtype=object' when creating the ndarray\n",
      "  dates = np.array([date[np.where(date > tau[-1])[0]] for date in dates ])\n"
     ]
    }
   ],
   "source": [
    "backtesting1.daily_update(Date[3])"
   ]
  },
  {
   "cell_type": "code",
   "execution_count": 6,
   "metadata": {},
   "outputs": [
    {
     "data": {
      "image/png": "[encoded data removed]",
      "text/plain": [
       "<Figure size 936x720 with 1 Axes>"
      ]
     },
     "metadata": {
      "needs_background": "light"
     },
     "output_type": "display_data"
    }
   ],
   "source": [
    "backtesting1.plot_value()"
   ]
  },
  {
   "cell_type": "code",
   "execution_count": 7,
   "metadata": {},
   "outputs": [
    {
     "data": {
      "text/plain": [
       "[100, 100.63921285860158, 100.91306004023107]"
      ]
     },
     "execution_count": 7,
     "metadata": {},
     "output_type": "execute_result"
    }
   ],
   "source": [
    "backtesting1.V_louvain"
   ]
  },
  {
   "cell_type": "code",
   "execution_count": 8,
   "metadata": {},
   "outputs": [
    {
     "data": {
      "text/plain": [
       "[100, 100.69368671131629, 100.67552892929541]"
      ]
     },
     "execution_count": 8,
     "metadata": {},
     "output_type": "execute_result"
    }
   ],
   "source": [
    "backtesting1.V_vanilla"
   ]
  },
  {
   "cell_type": "code",
   "execution_count": 9,
   "metadata": {},
   "outputs": [
    {
     "data": {
      "text/html": [
       "<div>\n",
       "<style scoped>\n",
       "    .dataframe tbody tr th:only-of-type {\n",
       "        vertical-align: middle;\n",
       "    }\n",
       "\n",
       "    .dataframe tbody tr th {\n",
       "        vertical-align: top;\n",
       "    }\n",
       "\n",
       "    .dataframe thead th {\n",
       "        text-align: right;\n",
       "    }\n",
       "</style>\n",
       "<table border=\"1\" class=\"dataframe\">\n",
       "  <thead>\n",
       "    <tr style=\"text-align: right;\">\n",
       "      <th></th>\n",
       "      <th>AAPL.OQ</th>\n",
       "      <th>AMGN.OQ</th>\n",
       "      <th>AXP.N</th>\n",
       "      <th>BA.N</th>\n",
       "      <th>CAT.N</th>\n",
       "      <th>CSCO.OQ</th>\n",
       "      <th>CVX.N</th>\n",
       "      <th>DOW.N</th>\n",
       "      <th>GS.N</th>\n",
       "      <th>SPY.P</th>\n",
       "      <th>UTX.N</th>\n",
       "      <th>V.N</th>\n",
       "      <th>WMT.N</th>\n",
       "    </tr>\n",
       "  </thead>\n",
       "  <tbody>\n",
       "    <tr>\n",
       "      <th>AAPL.OQ</th>\n",
       "      <td>1.000000</td>\n",
       "      <td>0.157260</td>\n",
       "      <td>0.584309</td>\n",
       "      <td>0.112718</td>\n",
       "      <td>0.116407</td>\n",
       "      <td>0.396457</td>\n",
       "      <td>-0.007697</td>\n",
       "      <td>0.098930</td>\n",
       "      <td>0.365682</td>\n",
       "      <td>0.298617</td>\n",
       "      <td>0.455637</td>\n",
       "      <td>-0.142288</td>\n",
       "      <td>0.581621</td>\n",
       "    </tr>\n",
       "    <tr>\n",
       "      <th>AMGN.OQ</th>\n",
       "      <td>0.157260</td>\n",
       "      <td>1.000000</td>\n",
       "      <td>0.561219</td>\n",
       "      <td>0.051508</td>\n",
       "      <td>-0.008258</td>\n",
       "      <td>0.580338</td>\n",
       "      <td>0.397193</td>\n",
       "      <td>0.082197</td>\n",
       "      <td>0.393304</td>\n",
       "      <td>0.461014</td>\n",
       "      <td>0.618767</td>\n",
       "      <td>0.329389</td>\n",
       "      <td>0.574689</td>\n",
       "    </tr>\n",
       "    <tr>\n",
       "      <th>AXP.N</th>\n",
       "      <td>0.584309</td>\n",
       "      <td>0.561219</td>\n",
       "      <td>1.000000</td>\n",
       "      <td>0.006100</td>\n",
       "      <td>0.144782</td>\n",
       "      <td>0.777849</td>\n",
       "      <td>0.100520</td>\n",
       "      <td>0.051958</td>\n",
       "      <td>0.566076</td>\n",
       "      <td>0.570705</td>\n",
       "      <td>0.724360</td>\n",
       "      <td>0.301567</td>\n",
       "      <td>0.751690</td>\n",
       "    </tr>\n",
       "    <tr>\n",
       "      <th>BA.N</th>\n",
       "      <td>0.112718</td>\n",
       "      <td>0.051508</td>\n",
       "      <td>0.006100</td>\n",
       "      <td>1.000000</td>\n",
       "      <td>0.751131</td>\n",
       "      <td>0.150955</td>\n",
       "      <td>0.796342</td>\n",
       "      <td>0.927960</td>\n",
       "      <td>0.600790</td>\n",
       "      <td>0.585901</td>\n",
       "      <td>0.111144</td>\n",
       "      <td>0.178534</td>\n",
       "      <td>-0.035145</td>\n",
       "    </tr>\n",
       "    <tr>\n",
       "      <th>CAT.N</th>\n",
       "      <td>0.116407</td>\n",
       "      <td>-0.008258</td>\n",
       "      <td>0.144782</td>\n",
       "      <td>0.751131</td>\n",
       "      <td>1.000000</td>\n",
       "      <td>0.452038</td>\n",
       "      <td>0.592364</td>\n",
       "      <td>0.708251</td>\n",
       "      <td>0.655019</td>\n",
       "      <td>0.742517</td>\n",
       "      <td>0.188732</td>\n",
       "      <td>0.327254</td>\n",
       "      <td>0.012711</td>\n",
       "    </tr>\n",
       "    <tr>\n",
       "      <th>CSCO.OQ</th>\n",
       "      <td>0.396457</td>\n",
       "      <td>0.580338</td>\n",
       "      <td>0.777849</td>\n",
       "      <td>0.150955</td>\n",
       "      <td>0.452038</td>\n",
       "      <td>1.000000</td>\n",
       "      <td>0.304031</td>\n",
       "      <td>0.245414</td>\n",
       "      <td>0.678749</td>\n",
       "      <td>0.780905</td>\n",
       "      <td>0.704258</td>\n",
       "      <td>0.497792</td>\n",
       "      <td>0.577794</td>\n",
       "    </tr>\n",
       "    <tr>\n",
       "      <th>CVX.N</th>\n",
       "      <td>-0.007697</td>\n",
       "      <td>0.397193</td>\n",
       "      <td>0.100520</td>\n",
       "      <td>0.796342</td>\n",
       "      <td>0.592364</td>\n",
       "      <td>0.304031</td>\n",
       "      <td>1.000000</td>\n",
       "      <td>0.794222</td>\n",
       "      <td>0.621907</td>\n",
       "      <td>0.713681</td>\n",
       "      <td>0.161520</td>\n",
       "      <td>0.387913</td>\n",
       "      <td>0.002589</td>\n",
       "    </tr>\n",
       "    <tr>\n",
       "      <th>DOW.N</th>\n",
       "      <td>0.098930</td>\n",
       "      <td>0.082197</td>\n",
       "      <td>0.051958</td>\n",
       "      <td>0.927960</td>\n",
       "      <td>0.708251</td>\n",
       "      <td>0.245414</td>\n",
       "      <td>0.794222</td>\n",
       "      <td>1.000000</td>\n",
       "      <td>0.668439</td>\n",
       "      <td>0.646372</td>\n",
       "      <td>0.081606</td>\n",
       "      <td>0.295325</td>\n",
       "      <td>-0.115471</td>\n",
       "    </tr>\n",
       "    <tr>\n",
       "      <th>GS.N</th>\n",
       "      <td>0.365682</td>\n",
       "      <td>0.393304</td>\n",
       "      <td>0.566076</td>\n",
       "      <td>0.600790</td>\n",
       "      <td>0.655019</td>\n",
       "      <td>0.678749</td>\n",
       "      <td>0.621907</td>\n",
       "      <td>0.668439</td>\n",
       "      <td>1.000000</td>\n",
       "      <td>0.875115</td>\n",
       "      <td>0.386041</td>\n",
       "      <td>0.411616</td>\n",
       "      <td>0.311784</td>\n",
       "    </tr>\n",
       "    <tr>\n",
       "      <th>SPY.P</th>\n",
       "      <td>0.298617</td>\n",
       "      <td>0.461014</td>\n",
       "      <td>0.570705</td>\n",
       "      <td>0.585901</td>\n",
       "      <td>0.742517</td>\n",
       "      <td>0.780905</td>\n",
       "      <td>0.713681</td>\n",
       "      <td>0.646372</td>\n",
       "      <td>0.875115</td>\n",
       "      <td>1.000000</td>\n",
       "      <td>0.476364</td>\n",
       "      <td>0.522987</td>\n",
       "      <td>0.294996</td>\n",
       "    </tr>\n",
       "    <tr>\n",
       "      <th>UTX.N</th>\n",
       "      <td>0.455637</td>\n",
       "      <td>0.618767</td>\n",
       "      <td>0.724360</td>\n",
       "      <td>0.111144</td>\n",
       "      <td>0.188732</td>\n",
       "      <td>0.704258</td>\n",
       "      <td>0.161520</td>\n",
       "      <td>0.081606</td>\n",
       "      <td>0.386041</td>\n",
       "      <td>0.476364</td>\n",
       "      <td>1.000000</td>\n",
       "      <td>0.382608</td>\n",
       "      <td>0.798790</td>\n",
       "    </tr>\n",
       "    <tr>\n",
       "      <th>V.N</th>\n",
       "      <td>-0.142288</td>\n",
       "      <td>0.329389</td>\n",
       "      <td>0.301567</td>\n",
       "      <td>0.178534</td>\n",
       "      <td>0.327254</td>\n",
       "      <td>0.497792</td>\n",
       "      <td>0.387913</td>\n",
       "      <td>0.295325</td>\n",
       "      <td>0.411616</td>\n",
       "      <td>0.522987</td>\n",
       "      <td>0.382608</td>\n",
       "      <td>1.000000</td>\n",
       "      <td>0.191101</td>\n",
       "    </tr>\n",
       "    <tr>\n",
       "      <th>WMT.N</th>\n",
       "      <td>0.581621</td>\n",
       "      <td>0.574689</td>\n",
       "      <td>0.751690</td>\n",
       "      <td>-0.035145</td>\n",
       "      <td>0.012711</td>\n",
       "      <td>0.577794</td>\n",
       "      <td>0.002589</td>\n",
       "      <td>-0.115471</td>\n",
       "      <td>0.311784</td>\n",
       "      <td>0.294996</td>\n",
       "      <td>0.798790</td>\n",
       "      <td>0.191101</td>\n",
       "      <td>1.000000</td>\n",
       "    </tr>\n",
       "  </tbody>\n",
       "</table>\n",
       "</div>"
      ],
      "text/plain": [
       "          AAPL.OQ   AMGN.OQ     AXP.N      BA.N     CAT.N   CSCO.OQ     CVX.N  \\\n",
       "AAPL.OQ  1.000000  0.157260  0.584309  0.112718  0.116407  0.396457 -0.007697   \n",
       "AMGN.OQ  0.157260  1.000000  0.561219  0.051508 -0.008258  0.580338  0.397193   \n",
       "AXP.N    0.584309  0.561219  1.000000  0.006100  0.144782  0.777849  0.100520   \n",
       "BA.N     0.112718  0.051508  0.006100  1.000000  0.751131  0.150955  0.796342   \n",
       "CAT.N    0.116407 -0.008258  0.144782  0.751131  1.000000  0.452038  0.592364   \n",
       "CSCO.OQ  0.396457  0.580338  0.777849  0.150955  0.452038  1.000000  0.304031   \n",
       "CVX.N   -0.007697  0.397193  0.100520  0.796342  0.592364  0.304031  1.000000   \n",
       "DOW.N    0.098930  0.082197  0.051958  0.927960  0.708251  0.245414  0.794222   \n",
       "GS.N     0.365682  0.393304  0.566076  0.600790  0.655019  0.678749  0.621907   \n",
       "SPY.P    0.298617  0.461014  0.570705  0.585901  0.742517  0.780905  0.713681   \n",
       "UTX.N    0.455637  0.618767  0.724360  0.111144  0.188732  0.704258  0.161520   \n",
       "V.N     -0.142288  0.329389  0.301567  0.178534  0.327254  0.497792  0.387913   \n",
       "WMT.N    0.581621  0.574689  0.751690 -0.035145  0.012711  0.577794  0.002589   \n",
       "\n",
       "            DOW.N      GS.N     SPY.P     UTX.N       V.N     WMT.N  \n",
       "AAPL.OQ  0.098930  0.365682  0.298617  0.455637 -0.142288  0.581621  \n",
       "AMGN.OQ  0.082197  0.393304  0.461014  0.618767  0.329389  0.574689  \n",
       "AXP.N    0.051958  0.566076  0.570705  0.724360  0.301567  0.751690  \n",
       "BA.N     0.927960  0.600790  0.585901  0.111144  0.178534 -0.035145  \n",
       "CAT.N    0.708251  0.655019  0.742517  0.188732  0.327254  0.012711  \n",
       "CSCO.OQ  0.245414  0.678749  0.780905  0.704258  0.497792  0.577794  \n",
       "CVX.N    0.794222  0.621907  0.713681  0.161520  0.387913  0.002589  \n",
       "DOW.N    1.000000  0.668439  0.646372  0.081606  0.295325 -0.115471  \n",
       "GS.N     0.668439  1.000000  0.875115  0.386041  0.411616  0.311784  \n",
       "SPY.P    0.646372  0.875115  1.000000  0.476364  0.522987  0.294996  \n",
       "UTX.N    0.081606  0.386041  0.476364  1.000000  0.382608  0.798790  \n",
       "V.N      0.295325  0.411616  0.522987  0.382608  1.000000  0.191101  \n",
       "WMT.N   -0.115471  0.311784  0.294996  0.798790  0.191101  1.000000  "
      ]
     },
     "execution_count": 9,
     "metadata": {},
     "output_type": "execute_result"
    }
   ],
   "source": [
    "backtesting1.correlation/backtesting1.nombre_test"
   ]
  },
  {
   "cell_type": "code",
   "execution_count": 10,
   "metadata": {},
   "outputs": [
    {
     "data": {
      "text/plain": [
       "array([[0. , 0.5, 1. , 1. , 1. , 1. , 1. , 0. , 0.5, 0.5, 0.5, 0.5, 0. ],\n",
       "       [0.5, 0. , 0.5, 0.5, 0.5, 0.5, 0.5, 0.5, 1. , 1. , 1. , 0. , 0. ],\n",
       "       [1. , 0.5, 1. , 1. , 1. , 0. , 0. , 0. , 0.5, 0.5, 0. , 0. , 0. ],\n",
       "       [1. , 0.5, 1. , 1. , 0. , 0. , 0. , 0. , 0.5, 0. , 0. , 0. , 0. ],\n",
       "       [1. , 0.5, 1. , 0. , 0. , 0. , 0. , 0. , 0. , 0. , 0. , 0. , 0. ],\n",
       "       [1. , 0.5, 0. , 0. , 0. , 0. , 0. , 0. , 0. , 0. , 0. , 0. , 0. ],\n",
       "       [1. , 0.5, 0. , 0. , 0. , 0. , 0. , 0. , 0. , 0. , 0. , 0. , 0. ],\n",
       "       [0. , 0.5, 0. , 0. , 0. , 0. , 0. , 0. , 0. , 0. , 0. , 0. , 0. ],\n",
       "       [0.5, 1. , 0.5, 0.5, 0. , 0. , 0. , 0. , 0. , 0. , 0. , 0. , 0. ],\n",
       "       [0.5, 1. , 0.5, 0. , 0. , 0. , 0. , 0. , 0. , 0. , 0. , 0. , 0. ],\n",
       "       [0.5, 1. , 0. , 0. , 0. , 0. , 0. , 0. , 0. , 0. , 0. , 0. , 0. ],\n",
       "       [0.5, 0. , 0. , 0. , 0. , 0. , 0. , 0. , 0. , 0. , 0. , 0. , 0. ],\n",
       "       [0. , 0. , 0. , 0. , 0. , 0. , 0. , 0. , 0. , 0. , 0. , 0. , 0. ]])"
      ]
     },
     "execution_count": 10,
     "metadata": {},
     "output_type": "execute_result"
    }
   ],
   "source": [
    "backtesting1.louvain_cluster/backtesting1.nombre_test"
   ]
  }
 ],
 "metadata": {
  "kernelspec": {
   "display_name": "Python 3",
   "language": "python",
   "name": "python3"
  },
  "language_info": {
   "codemirror_mode": {
    "name": "ipython",
    "version": 3
   },
   "file_extension": ".py",
   "mimetype": "text/x-python",
   "name": "python",
   "nbconvert_exporter": "python",
   "pygments_lexer": "ipython3",
   "version": "3.7.9"
  }
 },
 "nbformat": 4,
 "nbformat_minor": 4
}
