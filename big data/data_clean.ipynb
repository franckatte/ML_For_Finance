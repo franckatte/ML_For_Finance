{
 "cells": [
  {
   "cell_type": "code",
   "execution_count": 1,
   "metadata": {},
   "outputs": [],
   "source": [
    "import numpy as np\n",
    "import pandas as pd\n",
    "import matplotlib.pyplot as plt"
   ]
  },
  {
   "cell_type": "code",
   "execution_count": 3,
   "metadata": {},
   "outputs": [
    {
     "data": {
      "text/html": [
       "<div>\n",
       "<style scoped>\n",
       "    .dataframe tbody tr th:only-of-type {\n",
       "        vertical-align: middle;\n",
       "    }\n",
       "\n",
       "    .dataframe tbody tr th {\n",
       "        vertical-align: top;\n",
       "    }\n",
       "\n",
       "    .dataframe thead th {\n",
       "        text-align: right;\n",
       "    }\n",
       "</style>\n",
       "<table border=\"1\" class=\"dataframe\">\n",
       "  <thead>\n",
       "    <tr style=\"text-align: right;\">\n",
       "      <th></th>\n",
       "      <th>^GSPC</th>\n",
       "      <th>GE</th>\n",
       "      <th>IBM</th>\n",
       "      <th>DIS</th>\n",
       "      <th>BA</th>\n",
       "      <th>CAT</th>\n",
       "      <th>AA</th>\n",
       "      <th>HPQ</th>\n",
       "      <th>DD</th>\n",
       "      <th>KO</th>\n",
       "      <th>...</th>\n",
       "      <th>GRA</th>\n",
       "      <th>LPX</th>\n",
       "      <th>VLO</th>\n",
       "      <th>WMB</th>\n",
       "      <th>TXI</th>\n",
       "      <th>CI</th>\n",
       "      <th>NVO</th>\n",
       "      <th>OMX</th>\n",
       "      <th>NSC</th>\n",
       "      <th>ALK</th>\n",
       "    </tr>\n",
       "  </thead>\n",
       "  <tbody>\n",
       "    <tr>\n",
       "      <th>1</th>\n",
       "      <td>16.66</td>\n",
       "      <td>NaN</td>\n",
       "      <td>NaN</td>\n",
       "      <td>NaN</td>\n",
       "      <td>NaN</td>\n",
       "      <td>NaN</td>\n",
       "      <td>NaN</td>\n",
       "      <td>NaN</td>\n",
       "      <td>NaN</td>\n",
       "      <td>NaN</td>\n",
       "      <td>...</td>\n",
       "      <td>NaN</td>\n",
       "      <td>NaN</td>\n",
       "      <td>NaN</td>\n",
       "      <td>NaN</td>\n",
       "      <td>NaN</td>\n",
       "      <td>NaN</td>\n",
       "      <td>NaN</td>\n",
       "      <td>NaN</td>\n",
       "      <td>NaN</td>\n",
       "      <td>NaN</td>\n",
       "    </tr>\n",
       "    <tr>\n",
       "      <th>2</th>\n",
       "      <td>16.85</td>\n",
       "      <td>NaN</td>\n",
       "      <td>NaN</td>\n",
       "      <td>NaN</td>\n",
       "      <td>NaN</td>\n",
       "      <td>NaN</td>\n",
       "      <td>NaN</td>\n",
       "      <td>NaN</td>\n",
       "      <td>NaN</td>\n",
       "      <td>NaN</td>\n",
       "      <td>...</td>\n",
       "      <td>NaN</td>\n",
       "      <td>NaN</td>\n",
       "      <td>NaN</td>\n",
       "      <td>NaN</td>\n",
       "      <td>NaN</td>\n",
       "      <td>NaN</td>\n",
       "      <td>NaN</td>\n",
       "      <td>NaN</td>\n",
       "      <td>NaN</td>\n",
       "      <td>NaN</td>\n",
       "    </tr>\n",
       "    <tr>\n",
       "      <th>3</th>\n",
       "      <td>16.93</td>\n",
       "      <td>NaN</td>\n",
       "      <td>NaN</td>\n",
       "      <td>NaN</td>\n",
       "      <td>NaN</td>\n",
       "      <td>NaN</td>\n",
       "      <td>NaN</td>\n",
       "      <td>NaN</td>\n",
       "      <td>NaN</td>\n",
       "      <td>NaN</td>\n",
       "      <td>...</td>\n",
       "      <td>NaN</td>\n",
       "      <td>NaN</td>\n",
       "      <td>NaN</td>\n",
       "      <td>NaN</td>\n",
       "      <td>NaN</td>\n",
       "      <td>NaN</td>\n",
       "      <td>NaN</td>\n",
       "      <td>NaN</td>\n",
       "      <td>NaN</td>\n",
       "      <td>NaN</td>\n",
       "    </tr>\n",
       "    <tr>\n",
       "      <th>4</th>\n",
       "      <td>16.98</td>\n",
       "      <td>NaN</td>\n",
       "      <td>NaN</td>\n",
       "      <td>NaN</td>\n",
       "      <td>NaN</td>\n",
       "      <td>NaN</td>\n",
       "      <td>NaN</td>\n",
       "      <td>NaN</td>\n",
       "      <td>NaN</td>\n",
       "      <td>NaN</td>\n",
       "      <td>...</td>\n",
       "      <td>NaN</td>\n",
       "      <td>NaN</td>\n",
       "      <td>NaN</td>\n",
       "      <td>NaN</td>\n",
       "      <td>NaN</td>\n",
       "      <td>NaN</td>\n",
       "      <td>NaN</td>\n",
       "      <td>NaN</td>\n",
       "      <td>NaN</td>\n",
       "      <td>NaN</td>\n",
       "    </tr>\n",
       "    <tr>\n",
       "      <th>5</th>\n",
       "      <td>17.08</td>\n",
       "      <td>NaN</td>\n",
       "      <td>NaN</td>\n",
       "      <td>NaN</td>\n",
       "      <td>NaN</td>\n",
       "      <td>NaN</td>\n",
       "      <td>NaN</td>\n",
       "      <td>NaN</td>\n",
       "      <td>NaN</td>\n",
       "      <td>NaN</td>\n",
       "      <td>...</td>\n",
       "      <td>NaN</td>\n",
       "      <td>NaN</td>\n",
       "      <td>NaN</td>\n",
       "      <td>NaN</td>\n",
       "      <td>NaN</td>\n",
       "      <td>NaN</td>\n",
       "      <td>NaN</td>\n",
       "      <td>NaN</td>\n",
       "      <td>NaN</td>\n",
       "      <td>NaN</td>\n",
       "    </tr>\n",
       "    <tr>\n",
       "      <th>...</th>\n",
       "      <td>...</td>\n",
       "      <td>...</td>\n",
       "      <td>...</td>\n",
       "      <td>...</td>\n",
       "      <td>...</td>\n",
       "      <td>...</td>\n",
       "      <td>...</td>\n",
       "      <td>...</td>\n",
       "      <td>...</td>\n",
       "      <td>...</td>\n",
       "      <td>...</td>\n",
       "      <td>...</td>\n",
       "      <td>...</td>\n",
       "      <td>...</td>\n",
       "      <td>...</td>\n",
       "      <td>...</td>\n",
       "      <td>...</td>\n",
       "      <td>...</td>\n",
       "      <td>...</td>\n",
       "      <td>...</td>\n",
       "      <td>...</td>\n",
       "    </tr>\n",
       "    <tr>\n",
       "      <th>16287</th>\n",
       "      <td>1868.20</td>\n",
       "      <td>25.76</td>\n",
       "      <td>186.22</td>\n",
       "      <td>81.38</td>\n",
       "      <td>124.43</td>\n",
       "      <td>96.82</td>\n",
       "      <td>12.17</td>\n",
       "      <td>29.59</td>\n",
       "      <td>66.43</td>\n",
       "      <td>38.47</td>\n",
       "      <td>...</td>\n",
       "      <td>102.24</td>\n",
       "      <td>17.05</td>\n",
       "      <td>55.29</td>\n",
       "      <td>41.18</td>\n",
       "      <td>85.79</td>\n",
       "      <td>79.30</td>\n",
       "      <td>46.02</td>\n",
       "      <td>NaN</td>\n",
       "      <td>96.09</td>\n",
       "      <td>88.83</td>\n",
       "    </tr>\n",
       "    <tr>\n",
       "      <th>16288</th>\n",
       "      <td>1846.34</td>\n",
       "      <td>25.34</td>\n",
       "      <td>183.90</td>\n",
       "      <td>79.93</td>\n",
       "      <td>121.89</td>\n",
       "      <td>95.61</td>\n",
       "      <td>11.86</td>\n",
       "      <td>28.91</td>\n",
       "      <td>65.71</td>\n",
       "      <td>37.97</td>\n",
       "      <td>...</td>\n",
       "      <td>101.68</td>\n",
       "      <td>17.01</td>\n",
       "      <td>54.04</td>\n",
       "      <td>41.00</td>\n",
       "      <td>84.66</td>\n",
       "      <td>77.68</td>\n",
       "      <td>45.71</td>\n",
       "      <td>NaN</td>\n",
       "      <td>95.24</td>\n",
       "      <td>87.41</td>\n",
       "    </tr>\n",
       "    <tr>\n",
       "      <th>16289</th>\n",
       "      <td>1841.13</td>\n",
       "      <td>25.11</td>\n",
       "      <td>182.21</td>\n",
       "      <td>80.07</td>\n",
       "      <td>123.11</td>\n",
       "      <td>95.39</td>\n",
       "      <td>11.84</td>\n",
       "      <td>29.07</td>\n",
       "      <td>65.77</td>\n",
       "      <td>38.17</td>\n",
       "      <td>...</td>\n",
       "      <td>101.32</td>\n",
       "      <td>16.97</td>\n",
       "      <td>54.23</td>\n",
       "      <td>41.41</td>\n",
       "      <td>85.27</td>\n",
       "      <td>76.55</td>\n",
       "      <td>45.55</td>\n",
       "      <td>NaN</td>\n",
       "      <td>94.53</td>\n",
       "      <td>91.49</td>\n",
       "    </tr>\n",
       "    <tr>\n",
       "      <th>16290</th>\n",
       "      <td>1858.83</td>\n",
       "      <td>25.43</td>\n",
       "      <td>185.81</td>\n",
       "      <td>81.39</td>\n",
       "      <td>125.42</td>\n",
       "      <td>95.67</td>\n",
       "      <td>11.90</td>\n",
       "      <td>29.48</td>\n",
       "      <td>66.38</td>\n",
       "      <td>38.27</td>\n",
       "      <td>...</td>\n",
       "      <td>101.55</td>\n",
       "      <td>16.93</td>\n",
       "      <td>54.32</td>\n",
       "      <td>41.53</td>\n",
       "      <td>85.86</td>\n",
       "      <td>77.78</td>\n",
       "      <td>45.81</td>\n",
       "      <td>NaN</td>\n",
       "      <td>95.83</td>\n",
       "      <td>91.90</td>\n",
       "    </tr>\n",
       "    <tr>\n",
       "      <th>16291</th>\n",
       "      <td>1872.25</td>\n",
       "      <td>25.65</td>\n",
       "      <td>186.81</td>\n",
       "      <td>81.99</td>\n",
       "      <td>124.04</td>\n",
       "      <td>96.41</td>\n",
       "      <td>12.00</td>\n",
       "      <td>30.56</td>\n",
       "      <td>66.80</td>\n",
       "      <td>38.40</td>\n",
       "      <td>...</td>\n",
       "      <td>103.09</td>\n",
       "      <td>17.17</td>\n",
       "      <td>55.08</td>\n",
       "      <td>41.59</td>\n",
       "      <td>88.02</td>\n",
       "      <td>77.69</td>\n",
       "      <td>46.35</td>\n",
       "      <td>NaN</td>\n",
       "      <td>96.66</td>\n",
       "      <td>92.56</td>\n",
       "    </tr>\n",
       "  </tbody>\n",
       "</table>\n",
       "<p>16291 rows × 100 columns</p>\n",
       "</div>"
      ],
      "text/plain": [
       "         ^GSPC     GE     IBM    DIS      BA    CAT     AA    HPQ     DD  \\\n",
       "1        16.66    NaN     NaN    NaN     NaN    NaN    NaN    NaN    NaN   \n",
       "2        16.85    NaN     NaN    NaN     NaN    NaN    NaN    NaN    NaN   \n",
       "3        16.93    NaN     NaN    NaN     NaN    NaN    NaN    NaN    NaN   \n",
       "4        16.98    NaN     NaN    NaN     NaN    NaN    NaN    NaN    NaN   \n",
       "5        17.08    NaN     NaN    NaN     NaN    NaN    NaN    NaN    NaN   \n",
       "...        ...    ...     ...    ...     ...    ...    ...    ...    ...   \n",
       "16287  1868.20  25.76  186.22  81.38  124.43  96.82  12.17  29.59  66.43   \n",
       "16288  1846.34  25.34  183.90  79.93  121.89  95.61  11.86  28.91  65.71   \n",
       "16289  1841.13  25.11  182.21  80.07  123.11  95.39  11.84  29.07  65.77   \n",
       "16290  1858.83  25.43  185.81  81.39  125.42  95.67  11.90  29.48  66.38   \n",
       "16291  1872.25  25.65  186.81  81.99  124.04  96.41  12.00  30.56  66.80   \n",
       "\n",
       "          KO  ...     GRA    LPX    VLO    WMB    TXI     CI    NVO  OMX  \\\n",
       "1        NaN  ...     NaN    NaN    NaN    NaN    NaN    NaN    NaN  NaN   \n",
       "2        NaN  ...     NaN    NaN    NaN    NaN    NaN    NaN    NaN  NaN   \n",
       "3        NaN  ...     NaN    NaN    NaN    NaN    NaN    NaN    NaN  NaN   \n",
       "4        NaN  ...     NaN    NaN    NaN    NaN    NaN    NaN    NaN  NaN   \n",
       "5        NaN  ...     NaN    NaN    NaN    NaN    NaN    NaN    NaN  NaN   \n",
       "...      ...  ...     ...    ...    ...    ...    ...    ...    ...  ...   \n",
       "16287  38.47  ...  102.24  17.05  55.29  41.18  85.79  79.30  46.02  NaN   \n",
       "16288  37.97  ...  101.68  17.01  54.04  41.00  84.66  77.68  45.71  NaN   \n",
       "16289  38.17  ...  101.32  16.97  54.23  41.41  85.27  76.55  45.55  NaN   \n",
       "16290  38.27  ...  101.55  16.93  54.32  41.53  85.86  77.78  45.81  NaN   \n",
       "16291  38.40  ...  103.09  17.17  55.08  41.59  88.02  77.69  46.35  NaN   \n",
       "\n",
       "         NSC    ALK  \n",
       "1        NaN    NaN  \n",
       "2        NaN    NaN  \n",
       "3        NaN    NaN  \n",
       "4        NaN    NaN  \n",
       "5        NaN    NaN  \n",
       "...      ...    ...  \n",
       "16287  96.09  88.83  \n",
       "16288  95.24  87.41  \n",
       "16289  94.53  91.49  \n",
       "16290  95.83  91.90  \n",
       "16291  96.66  92.56  \n",
       "\n",
       "[16291 rows x 100 columns]"
      ]
     },
     "execution_count": 3,
     "metadata": {},
     "output_type": "execute_result"
    }
   ],
   "source": [
    "data= pd.read_csv('us-stocks.csv',index_col=0).iloc[:,:100] # we take arbitrary the 100 first stocks\n",
    "data"
   ]
  },
  {
   "cell_type": "code",
   "execution_count": 7,
   "metadata": {},
   "outputs": [],
   "source": [
    "index = data.index\n",
    "names_col = data.columns"
   ]
  },
  {
   "cell_type": "code",
   "execution_count": 31,
   "metadata": {},
   "outputs": [],
   "source": [
    "def number_na(dataframe):\n",
    "    #return the number of NA value from a DataFrame\n",
    "    return dataframe.isna().sum()\n",
    "\n",
    "def hist_na_market(data,names):\n",
    "    #take a dataset and its columns to give the number of NA per columns\n",
    "    num_na = np.array([number_na(data.iloc[:,i]) for i in range(len(names))])\n",
    "    fig = plt.figure(1, figsize=(18, 9))\n",
    "    plt.bar(names,num_na)\n",
    "    plt.xticks(rotation=90)\n",
    "    plt.ylabel('number of NA')\n",
    "    plt.show()\n",
    "    return\n",
    "    \n",
    "def evolution_na(data,index):\n",
    "    #take a dataset and plot the evolution of NA througth the index\n",
    "    num_na = np.array([number_na(data.iloc[i,:]) for i in range(len(index))])\n",
    "    fig = plt.figure(1, figsize=(18, 9))\n",
    "    plt.plot(index,num_na)\n",
    "    plt.xlabel('time')\n",
    "    plt.ylabel('number of NA')\n",
    "    plt.show()\n",
    "    return\n",
    "    \n"
   ]
  },
  {
   "cell_type": "code",
   "execution_count": 28,
   "metadata": {},
   "outputs": [
    {
     "data": {
      "image/png": "[encoded data removed]",
      "text/plain": [
       "<Figure size 1296x648 with 1 Axes>"
      ]
     },
     "metadata": {
      "needs_background": "light"
     },
     "output_type": "display_data"
    }
   ],
   "source": [
    "hist_na_market(data,names_col)"
   ]
  },
  {
   "cell_type": "code",
   "execution_count": 32,
   "metadata": {},
   "outputs": [
    {
     "name": "stderr",
     "output_type": "stream",
     "text": [
      "D:\\Python_file\\envs\\EPFL_SEM3\\lib\\site-packages\\matplotlib\\cbook\\__init__.py:1402: FutureWarning: Support for multi-dimensional indexing (e.g. `obj[:, None]`) is deprecated and will be removed in a future version.  Convert to a numpy array before indexing instead.\n",
      "  x[:, None]\n",
      "D:\\Python_file\\envs\\EPFL_SEM3\\lib\\site-packages\\matplotlib\\axes\\_base.py:276: FutureWarning: Support for multi-dimensional indexing (e.g. `obj[:, None]`) is deprecated and will be removed in a future version.  Convert to a numpy array before indexing instead.\n",
      "  x = x[:, np.newaxis]\n"
     ]
    },
    {
     "data": {
      "image/png": "[encoded data removed]",
      "text/plain": [
       "<Figure size 1296x648 with 1 Axes>"
      ]
     },
     "metadata": {
      "needs_background": "light"
     },
     "output_type": "display_data"
    }
   ],
   "source": [
    "evolution_na(data,index)"
   ]
  },
  {
   "cell_type": "markdown",
   "metadata": {},
   "source": [
    "because at first the number of NA is almost strickly deacreasing at first we can't use HY or the other algorithm before time 8000"
   ]
  },
  {
   "cell_type": "markdown",
   "metadata": {},
   "source": [
    "To use the correlation efficiently we can choose to select the data where we do not have a lot a missing value. So we will select the time where the number of 'NA' does not exeed 20."
   ]
  },
  {
   "cell_type": "code",
   "execution_count": 43,
   "metadata": {},
   "outputs": [],
   "source": [
    "def restrain_data(data,index,number_na_limit):\n",
    "    \n",
    "    num_na = np.array([number_na(data.iloc[i,:]) for i in range(len(index))])\n",
    "    filtere = np.argwhere(num_na<number_na_limit).T[0]\n",
    "    \n",
    "    return index[filtere],data.iloc[filtere,:]\n",
    "    \n",
    "    \n",
    "    "
   ]
  },
  {
   "cell_type": "code",
   "execution_count": 47,
   "metadata": {},
   "outputs": [],
   "source": [
    "index_clean,data_clean = restrain_data(data,index,20)"
   ]
  },
  {
   "cell_type": "code",
   "execution_count": 46,
   "metadata": {},
   "outputs": [
    {
     "data": {
      "text/plain": [
       "8117"
      ]
     },
     "execution_count": 46,
     "metadata": {},
     "output_type": "execute_result"
    }
   ],
   "source": [
    "len(index_clean)"
   ]
  },
  {
   "cell_type": "code",
   "execution_count": 44,
   "metadata": {},
   "outputs": [
    {
     "data": {
      "image/png": "[encoded data removed]",
      "text/plain": [
       "<Figure size 1296x648 with 1 Axes>"
      ]
     },
     "metadata": {
      "needs_background": "light"
     },
     "output_type": "display_data"
    }
   ],
   "source": [
    "hist_na_market(data_clean,names_col)"
   ]
  },
  {
   "cell_type": "code",
   "execution_count": 45,
   "metadata": {},
   "outputs": [
    {
     "name": "stderr",
     "output_type": "stream",
     "text": [
      "D:\\Python_file\\envs\\EPFL_SEM3\\lib\\site-packages\\matplotlib\\cbook\\__init__.py:1402: FutureWarning: Support for multi-dimensional indexing (e.g. `obj[:, None]`) is deprecated and will be removed in a future version.  Convert to a numpy array before indexing instead.\n",
      "  x[:, None]\n",
      "D:\\Python_file\\envs\\EPFL_SEM3\\lib\\site-packages\\matplotlib\\axes\\_base.py:276: FutureWarning: Support for multi-dimensional indexing (e.g. `obj[:, None]`) is deprecated and will be removed in a future version.  Convert to a numpy array before indexing instead.\n",
      "  x = x[:, np.newaxis]\n"
     ]
    },
    {
     "data": {
      "image/png": "[encoded data removed]",
      "text/plain": [
       "<Figure size 1296x648 with 1 Axes>"
      ]
     },
     "metadata": {
      "needs_background": "light"
     },
     "output_type": "display_data"
    }
   ],
   "source": [
    "evolution_na(data_clean,index_clean)"
   ]
  },
  {
   "cell_type": "code",
   "execution_count": 48,
   "metadata": {},
   "outputs": [],
   "source": [
    "data_clean.to_csv('data_clean.csv')"
   ]
  },
  {
   "cell_type": "code",
   "execution_count": null,
   "metadata": {},
   "outputs": [],
   "source": []
  }
 ],
 "metadata": {
  "kernelspec": {
   "display_name": "Python 3",
   "language": "python",
   "name": "python3"
  },
  "language_info": {
   "codemirror_mode": {
    "name": "ipython",
    "version": 3
   },
   "file_extension": ".py",
   "mimetype": "text/x-python",
   "name": "python",
   "nbconvert_exporter": "python",
   "pygments_lexer": "ipython3",
   "version": "3.6.12"
  }
 },
 "nbformat": 4,
 "nbformat_minor": 4
}
