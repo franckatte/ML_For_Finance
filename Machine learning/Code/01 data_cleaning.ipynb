{
 "cells": [
  {
   "cell_type": "code",
   "execution_count": 1,
   "metadata": {},
   "outputs": [],
   "source": [
    "import pandas as pd\n",
    "import numpy as np\n",
    "import glob\n",
    "import matplotlib.pyplot as plt\n",
    "import datetime"
   ]
  },
  {
   "cell_type": "code",
   "execution_count": 2,
   "metadata": {},
   "outputs": [],
   "source": [
    "allxlsx = glob.glob('/Users/franckatteaka/Desktop/cours/Semester III/Courses Projects/Machine Learning/Data/*.xlsx')\n",
    "csv = glob.glob('/Users/franckatteaka/Desktop/cours/Semester III/Courses Projects/Machine Learning/Data/*yields_raw.csv')\n"
   ]
  },
  {
   "cell_type": "markdown",
   "metadata": {},
   "source": [
    "## Yield data cleaning"
   ]
  },
  {
   "cell_type": "code",
   "execution_count": 3,
   "metadata": {},
   "outputs": [],
   "source": [
    "yields_raw = pd.read_csv(csv[0],sep = \";\",skiprows = 3,parse_dates = True,index_col = 0 )"
   ]
  },
  {
   "cell_type": "code",
   "execution_count": 4,
   "metadata": {},
   "outputs": [],
   "source": [
    "# remove exchange closed days\n",
    "yields = yields_raw[yields_raw[\"Value\"] == yields_raw[\"Value\"] ]"
   ]
  },
  {
   "cell_type": "code",
   "execution_count": 5,
   "metadata": {},
   "outputs": [],
   "source": [
    "yields = yields.replace('10J0','10J').copy()"
   ]
  },
  {
   "cell_type": "code",
   "execution_count": 6,
   "metadata": {},
   "outputs": [
    {
     "data": {
      "text/html": [
       "<div>\n",
       "<style scoped>\n",
       "    .dataframe tbody tr th:only-of-type {\n",
       "        vertical-align: middle;\n",
       "    }\n",
       "\n",
       "    .dataframe tbody tr th {\n",
       "        vertical-align: top;\n",
       "    }\n",
       "\n",
       "    .dataframe thead th {\n",
       "        text-align: right;\n",
       "    }\n",
       "</style>\n",
       "<table border=\"1\" class=\"dataframe\">\n",
       "  <thead>\n",
       "    <tr style=\"text-align: right;\">\n",
       "      <th></th>\n",
       "      <th>D0</th>\n",
       "      <th>Value</th>\n",
       "    </tr>\n",
       "    <tr>\n",
       "      <th>Date</th>\n",
       "      <th></th>\n",
       "      <th></th>\n",
       "    </tr>\n",
       "  </thead>\n",
       "  <tbody>\n",
       "    <tr>\n",
       "      <th>1991-01-03</th>\n",
       "      <td>1J</td>\n",
       "      <td>8.105</td>\n",
       "    </tr>\n",
       "    <tr>\n",
       "      <th>1991-01-03</th>\n",
       "      <td>2J</td>\n",
       "      <td>7.339</td>\n",
       "    </tr>\n",
       "    <tr>\n",
       "      <th>1991-01-03</th>\n",
       "      <td>3J</td>\n",
       "      <td>6.944</td>\n",
       "    </tr>\n",
       "    <tr>\n",
       "      <th>1991-01-03</th>\n",
       "      <td>4J</td>\n",
       "      <td>6.752</td>\n",
       "    </tr>\n",
       "    <tr>\n",
       "      <th>1991-01-03</th>\n",
       "      <td>5J</td>\n",
       "      <td>6.660</td>\n",
       "    </tr>\n",
       "    <tr>\n",
       "      <th>...</th>\n",
       "      <td>...</td>\n",
       "      <td>...</td>\n",
       "    </tr>\n",
       "    <tr>\n",
       "      <th>2020-10-30</th>\n",
       "      <td>9J</td>\n",
       "      <td>-0.548</td>\n",
       "    </tr>\n",
       "    <tr>\n",
       "      <th>2020-10-30</th>\n",
       "      <td>10J</td>\n",
       "      <td>-0.518</td>\n",
       "    </tr>\n",
       "    <tr>\n",
       "      <th>2020-10-30</th>\n",
       "      <td>15J</td>\n",
       "      <td>-0.423</td>\n",
       "    </tr>\n",
       "    <tr>\n",
       "      <th>2020-10-30</th>\n",
       "      <td>20J</td>\n",
       "      <td>-0.376</td>\n",
       "    </tr>\n",
       "    <tr>\n",
       "      <th>2020-10-30</th>\n",
       "      <td>30J</td>\n",
       "      <td>-0.328</td>\n",
       "    </tr>\n",
       "  </tbody>\n",
       "</table>\n",
       "<p>79554 rows × 2 columns</p>\n",
       "</div>"
      ],
      "text/plain": [
       "             D0  Value\n",
       "Date                  \n",
       "1991-01-03   1J  8.105\n",
       "1991-01-03   2J  7.339\n",
       "1991-01-03   3J  6.944\n",
       "1991-01-03   4J  6.752\n",
       "1991-01-03   5J  6.660\n",
       "...         ...    ...\n",
       "2020-10-30   9J -0.548\n",
       "2020-10-30  10J -0.518\n",
       "2020-10-30  15J -0.423\n",
       "2020-10-30  20J -0.376\n",
       "2020-10-30  30J -0.328\n",
       "\n",
       "[79554 rows x 2 columns]"
      ]
     },
     "execution_count": 6,
     "metadata": {},
     "output_type": "execute_result"
    }
   ],
   "source": [
    "yields"
   ]
  },
  {
   "cell_type": "code",
   "execution_count": 7,
   "metadata": {},
   "outputs": [
    {
     "data": {
      "text/plain": [
       "6J     6153\n",
       "5J     6153\n",
       "9J     6153\n",
       "4J     6153\n",
       "2J     6153\n",
       "8J     6153\n",
       "20J    6153\n",
       "15J    6153\n",
       "10J    6153\n",
       "7J     6153\n",
       "3J     6153\n",
       "1J     6153\n",
       "30J    5718\n",
       "Name: D0, dtype: int64"
      ]
     },
     "execution_count": 7,
     "metadata": {},
     "output_type": "execute_result"
    }
   ],
   "source": [
    "yields['D0'].value_counts()"
   ]
  },
  {
   "cell_type": "code",
   "execution_count": 8,
   "metadata": {},
   "outputs": [],
   "source": [
    "dates = pd.Series(yields.index.date)"
   ]
  },
  {
   "cell_type": "code",
   "execution_count": 9,
   "metadata": {},
   "outputs": [],
   "source": [
    "tab = pd.DataFrame(dates.value_counts() == 12 )"
   ]
  },
  {
   "cell_type": "code",
   "execution_count": 10,
   "metadata": {},
   "outputs": [],
   "source": [
    "max_date = max(tab[tab[0] == True].index)\n"
   ]
  },
  {
   "cell_type": "code",
   "execution_count": 11,
   "metadata": {},
   "outputs": [
    {
     "data": {
      "text/plain": [
       "6J     5718\n",
       "5J     5718\n",
       "9J     5718\n",
       "4J     5718\n",
       "2J     5718\n",
       "8J     5718\n",
       "20J    5718\n",
       "15J    5718\n",
       "10J    5718\n",
       "7J     5718\n",
       "30J    5718\n",
       "3J     5718\n",
       "1J     5718\n",
       "Name: D0, dtype: int64"
      ]
     },
     "execution_count": 11,
     "metadata": {},
     "output_type": "execute_result"
    }
   ],
   "source": [
    "yields[yields.index.date > max_date]['D0'].value_counts()"
   ]
  },
  {
   "cell_type": "code",
   "execution_count": 12,
   "metadata": {},
   "outputs": [],
   "source": [
    "yields_clean = yields[yields.index.date > max_date]"
   ]
  },
  {
   "cell_type": "code",
   "execution_count": 13,
   "metadata": {},
   "outputs": [],
   "source": [
    "yields_clean.reset_index(level = 0, inplace = True)\n",
    "yields_clean = yields_clean.pivot(index='Date', columns='D0', values='Value')"
   ]
  },
  {
   "cell_type": "code",
   "execution_count": 14,
   "metadata": {},
   "outputs": [
    {
     "data": {
      "text/html": [
       "<div>\n",
       "<style scoped>\n",
       "    .dataframe tbody tr th:only-of-type {\n",
       "        vertical-align: middle;\n",
       "    }\n",
       "\n",
       "    .dataframe tbody tr th {\n",
       "        vertical-align: top;\n",
       "    }\n",
       "\n",
       "    .dataframe thead th {\n",
       "        text-align: right;\n",
       "    }\n",
       "</style>\n",
       "<table border=\"1\" class=\"dataframe\">\n",
       "  <thead>\n",
       "    <tr style=\"text-align: right;\">\n",
       "      <th>D0</th>\n",
       "      <th>10J</th>\n",
       "      <th>15J</th>\n",
       "      <th>1J</th>\n",
       "      <th>20J</th>\n",
       "      <th>2J</th>\n",
       "      <th>30J</th>\n",
       "      <th>3J</th>\n",
       "      <th>4J</th>\n",
       "      <th>5J</th>\n",
       "      <th>6J</th>\n",
       "      <th>7J</th>\n",
       "      <th>8J</th>\n",
       "      <th>9J</th>\n",
       "    </tr>\n",
       "    <tr>\n",
       "      <th>Date</th>\n",
       "      <th></th>\n",
       "      <th></th>\n",
       "      <th></th>\n",
       "      <th></th>\n",
       "      <th></th>\n",
       "      <th></th>\n",
       "      <th></th>\n",
       "      <th></th>\n",
       "      <th></th>\n",
       "      <th></th>\n",
       "      <th></th>\n",
       "      <th></th>\n",
       "      <th></th>\n",
       "    </tr>\n",
       "  </thead>\n",
       "  <tbody>\n",
       "    <tr>\n",
       "      <th>1997-12-29</th>\n",
       "      <td>3.408</td>\n",
       "      <td>3.869</td>\n",
       "      <td>1.684</td>\n",
       "      <td>4.104</td>\n",
       "      <td>1.862</td>\n",
       "      <td>4.249</td>\n",
       "      <td>2.100</td>\n",
       "      <td>2.341</td>\n",
       "      <td>2.568</td>\n",
       "      <td>2.774</td>\n",
       "      <td>2.961</td>\n",
       "      <td>3.127</td>\n",
       "      <td>3.276</td>\n",
       "    </tr>\n",
       "    <tr>\n",
       "      <th>1997-12-31</th>\n",
       "      <td>3.445</td>\n",
       "      <td>3.903</td>\n",
       "      <td>1.658</td>\n",
       "      <td>4.167</td>\n",
       "      <td>1.883</td>\n",
       "      <td>4.445</td>\n",
       "      <td>2.136</td>\n",
       "      <td>2.384</td>\n",
       "      <td>2.614</td>\n",
       "      <td>2.821</td>\n",
       "      <td>3.006</td>\n",
       "      <td>3.171</td>\n",
       "      <td>3.316</td>\n",
       "    </tr>\n",
       "    <tr>\n",
       "      <th>1998-01-06</th>\n",
       "      <td>3.356</td>\n",
       "      <td>3.838</td>\n",
       "      <td>1.652</td>\n",
       "      <td>4.142</td>\n",
       "      <td>1.869</td>\n",
       "      <td>4.484</td>\n",
       "      <td>2.108</td>\n",
       "      <td>2.340</td>\n",
       "      <td>2.555</td>\n",
       "      <td>2.750</td>\n",
       "      <td>2.925</td>\n",
       "      <td>3.084</td>\n",
       "      <td>3.227</td>\n",
       "    </tr>\n",
       "    <tr>\n",
       "      <th>1998-01-07</th>\n",
       "      <td>3.331</td>\n",
       "      <td>3.793</td>\n",
       "      <td>1.608</td>\n",
       "      <td>4.071</td>\n",
       "      <td>1.809</td>\n",
       "      <td>4.375</td>\n",
       "      <td>2.054</td>\n",
       "      <td>2.297</td>\n",
       "      <td>2.520</td>\n",
       "      <td>2.722</td>\n",
       "      <td>2.902</td>\n",
       "      <td>3.062</td>\n",
       "      <td>3.204</td>\n",
       "    </tr>\n",
       "    <tr>\n",
       "      <th>1998-01-08</th>\n",
       "      <td>3.339</td>\n",
       "      <td>3.791</td>\n",
       "      <td>1.537</td>\n",
       "      <td>4.057</td>\n",
       "      <td>1.748</td>\n",
       "      <td>4.342</td>\n",
       "      <td>2.016</td>\n",
       "      <td>2.276</td>\n",
       "      <td>2.512</td>\n",
       "      <td>2.721</td>\n",
       "      <td>2.906</td>\n",
       "      <td>3.068</td>\n",
       "      <td>3.212</td>\n",
       "    </tr>\n",
       "    <tr>\n",
       "      <th>...</th>\n",
       "      <td>...</td>\n",
       "      <td>...</td>\n",
       "      <td>...</td>\n",
       "      <td>...</td>\n",
       "      <td>...</td>\n",
       "      <td>...</td>\n",
       "      <td>...</td>\n",
       "      <td>...</td>\n",
       "      <td>...</td>\n",
       "      <td>...</td>\n",
       "      <td>...</td>\n",
       "      <td>...</td>\n",
       "      <td>...</td>\n",
       "    </tr>\n",
       "    <tr>\n",
       "      <th>2020-10-26</th>\n",
       "      <td>-0.505</td>\n",
       "      <td>-0.405</td>\n",
       "      <td>-0.722</td>\n",
       "      <td>-0.355</td>\n",
       "      <td>-0.815</td>\n",
       "      <td>-0.304</td>\n",
       "      <td>-0.833</td>\n",
       "      <td>-0.795</td>\n",
       "      <td>-0.736</td>\n",
       "      <td>-0.676</td>\n",
       "      <td>-0.621</td>\n",
       "      <td>-0.575</td>\n",
       "      <td>-0.537</td>\n",
       "    </tr>\n",
       "    <tr>\n",
       "      <th>2020-10-27</th>\n",
       "      <td>-0.494</td>\n",
       "      <td>-0.397</td>\n",
       "      <td>-0.734</td>\n",
       "      <td>-0.348</td>\n",
       "      <td>-0.830</td>\n",
       "      <td>-0.300</td>\n",
       "      <td>-0.841</td>\n",
       "      <td>-0.794</td>\n",
       "      <td>-0.729</td>\n",
       "      <td>-0.665</td>\n",
       "      <td>-0.610</td>\n",
       "      <td>-0.564</td>\n",
       "      <td>-0.525</td>\n",
       "    </tr>\n",
       "    <tr>\n",
       "      <th>2020-10-28</th>\n",
       "      <td>-0.533</td>\n",
       "      <td>-0.440</td>\n",
       "      <td>-0.723</td>\n",
       "      <td>-0.393</td>\n",
       "      <td>-0.820</td>\n",
       "      <td>-0.346</td>\n",
       "      <td>-0.844</td>\n",
       "      <td>-0.810</td>\n",
       "      <td>-0.754</td>\n",
       "      <td>-0.696</td>\n",
       "      <td>-0.644</td>\n",
       "      <td>-0.600</td>\n",
       "      <td>-0.563</td>\n",
       "    </tr>\n",
       "    <tr>\n",
       "      <th>2020-10-29</th>\n",
       "      <td>-0.521</td>\n",
       "      <td>-0.425</td>\n",
       "      <td>-0.730</td>\n",
       "      <td>-0.376</td>\n",
       "      <td>-0.812</td>\n",
       "      <td>-0.328</td>\n",
       "      <td>-0.827</td>\n",
       "      <td>-0.792</td>\n",
       "      <td>-0.738</td>\n",
       "      <td>-0.682</td>\n",
       "      <td>-0.631</td>\n",
       "      <td>-0.588</td>\n",
       "      <td>-0.551</td>\n",
       "    </tr>\n",
       "    <tr>\n",
       "      <th>2020-10-30</th>\n",
       "      <td>-0.518</td>\n",
       "      <td>-0.423</td>\n",
       "      <td>-0.721</td>\n",
       "      <td>-0.376</td>\n",
       "      <td>-0.802</td>\n",
       "      <td>-0.328</td>\n",
       "      <td>-0.822</td>\n",
       "      <td>-0.790</td>\n",
       "      <td>-0.736</td>\n",
       "      <td>-0.680</td>\n",
       "      <td>-0.629</td>\n",
       "      <td>-0.585</td>\n",
       "      <td>-0.548</td>\n",
       "    </tr>\n",
       "  </tbody>\n",
       "</table>\n",
       "<p>5718 rows × 13 columns</p>\n",
       "</div>"
      ],
      "text/plain": [
       "D0            10J    15J     1J    20J     2J    30J     3J     4J     5J  \\\n",
       "Date                                                                        \n",
       "1997-12-29  3.408  3.869  1.684  4.104  1.862  4.249  2.100  2.341  2.568   \n",
       "1997-12-31  3.445  3.903  1.658  4.167  1.883  4.445  2.136  2.384  2.614   \n",
       "1998-01-06  3.356  3.838  1.652  4.142  1.869  4.484  2.108  2.340  2.555   \n",
       "1998-01-07  3.331  3.793  1.608  4.071  1.809  4.375  2.054  2.297  2.520   \n",
       "1998-01-08  3.339  3.791  1.537  4.057  1.748  4.342  2.016  2.276  2.512   \n",
       "...           ...    ...    ...    ...    ...    ...    ...    ...    ...   \n",
       "2020-10-26 -0.505 -0.405 -0.722 -0.355 -0.815 -0.304 -0.833 -0.795 -0.736   \n",
       "2020-10-27 -0.494 -0.397 -0.734 -0.348 -0.830 -0.300 -0.841 -0.794 -0.729   \n",
       "2020-10-28 -0.533 -0.440 -0.723 -0.393 -0.820 -0.346 -0.844 -0.810 -0.754   \n",
       "2020-10-29 -0.521 -0.425 -0.730 -0.376 -0.812 -0.328 -0.827 -0.792 -0.738   \n",
       "2020-10-30 -0.518 -0.423 -0.721 -0.376 -0.802 -0.328 -0.822 -0.790 -0.736   \n",
       "\n",
       "D0             6J     7J     8J     9J  \n",
       "Date                                    \n",
       "1997-12-29  2.774  2.961  3.127  3.276  \n",
       "1997-12-31  2.821  3.006  3.171  3.316  \n",
       "1998-01-06  2.750  2.925  3.084  3.227  \n",
       "1998-01-07  2.722  2.902  3.062  3.204  \n",
       "1998-01-08  2.721  2.906  3.068  3.212  \n",
       "...           ...    ...    ...    ...  \n",
       "2020-10-26 -0.676 -0.621 -0.575 -0.537  \n",
       "2020-10-27 -0.665 -0.610 -0.564 -0.525  \n",
       "2020-10-28 -0.696 -0.644 -0.600 -0.563  \n",
       "2020-10-29 -0.682 -0.631 -0.588 -0.551  \n",
       "2020-10-30 -0.680 -0.629 -0.585 -0.548  \n",
       "\n",
       "[5718 rows x 13 columns]"
      ]
     },
     "execution_count": 14,
     "metadata": {},
     "output_type": "execute_result"
    }
   ],
   "source": [
    "yields_clean"
   ]
  },
  {
   "cell_type": "markdown",
   "metadata": {},
   "source": [
    "## Economic data cleaning"
   ]
  },
  {
   "cell_type": "code",
   "execution_count": 15,
   "metadata": {},
   "outputs": [
    {
     "data": {
      "text/plain": [
       "['/Users/franckatteaka/Desktop/cours/Semester III/ML_for_finance/Data/kof_data_eco_sent_raw.xlsx',\n",
       " '/Users/franckatteaka/Desktop/cours/Semester III/ML_for_finance/Data/kof_data_baro_raw.xlsx',\n",
       " '/Users/franckatteaka/Desktop/cours/Semester III/ML_for_finance/Data/kof_data_mcp_raw.xlsx.xlsx']"
      ]
     },
     "execution_count": 15,
     "metadata": {},
     "output_type": "execute_result"
    }
   ],
   "source": [
    "allxlsx"
   ]
  },
  {
   "cell_type": "code",
   "execution_count": 16,
   "metadata": {},
   "outputs": [],
   "source": [
    "df_eco_raw = pd.read_excel(allxlsx[0],parse_dates = True,index_col = 0 )"
   ]
  },
  {
   "cell_type": "code",
   "execution_count": 17,
   "metadata": {},
   "outputs": [],
   "source": [
    "df_eco_raw.columns = ['sentiment ch','sentiment eu']"
   ]
  },
  {
   "cell_type": "code",
   "execution_count": 18,
   "metadata": {},
   "outputs": [
    {
     "data": {
      "text/html": [
       "<div>\n",
       "<style scoped>\n",
       "    .dataframe tbody tr th:only-of-type {\n",
       "        vertical-align: middle;\n",
       "    }\n",
       "\n",
       "    .dataframe tbody tr th {\n",
       "        vertical-align: top;\n",
       "    }\n",
       "\n",
       "    .dataframe thead th {\n",
       "        text-align: right;\n",
       "    }\n",
       "</style>\n",
       "<table border=\"1\" class=\"dataframe\">\n",
       "  <thead>\n",
       "    <tr style=\"text-align: right;\">\n",
       "      <th></th>\n",
       "      <th>sentiment ch</th>\n",
       "      <th>sentiment eu</th>\n",
       "    </tr>\n",
       "    <tr>\n",
       "      <th>date</th>\n",
       "      <th></th>\n",
       "      <th></th>\n",
       "    </tr>\n",
       "  </thead>\n",
       "  <tbody>\n",
       "    <tr>\n",
       "      <th>2007-04-01</th>\n",
       "      <td>117.499994</td>\n",
       "      <td>112.3</td>\n",
       "    </tr>\n",
       "    <tr>\n",
       "      <th>2007-05-01</th>\n",
       "      <td>116.797739</td>\n",
       "      <td>112.6</td>\n",
       "    </tr>\n",
       "    <tr>\n",
       "      <th>2007-06-01</th>\n",
       "      <td>117.108608</td>\n",
       "      <td>112.5</td>\n",
       "    </tr>\n",
       "    <tr>\n",
       "      <th>2007-07-01</th>\n",
       "      <td>117.698923</td>\n",
       "      <td>111.9</td>\n",
       "    </tr>\n",
       "    <tr>\n",
       "      <th>2007-08-01</th>\n",
       "      <td>117.843179</td>\n",
       "      <td>110.9</td>\n",
       "    </tr>\n",
       "    <tr>\n",
       "      <th>...</th>\n",
       "      <td>...</td>\n",
       "      <td>...</td>\n",
       "    </tr>\n",
       "    <tr>\n",
       "      <th>2020-06-01</th>\n",
       "      <td>57.700856</td>\n",
       "      <td>74.9</td>\n",
       "    </tr>\n",
       "    <tr>\n",
       "      <th>2020-07-01</th>\n",
       "      <td>78.252529</td>\n",
       "      <td>81.8</td>\n",
       "    </tr>\n",
       "    <tr>\n",
       "      <th>2020-08-01</th>\n",
       "      <td>79.930654</td>\n",
       "      <td>86.8</td>\n",
       "    </tr>\n",
       "    <tr>\n",
       "      <th>2020-09-01</th>\n",
       "      <td>80.160834</td>\n",
       "      <td>90.0</td>\n",
       "    </tr>\n",
       "    <tr>\n",
       "      <th>2020-10-01</th>\n",
       "      <td>89.618791</td>\n",
       "      <td>90.0</td>\n",
       "    </tr>\n",
       "  </tbody>\n",
       "</table>\n",
       "<p>163 rows × 2 columns</p>\n",
       "</div>"
      ],
      "text/plain": [
       "            sentiment ch  sentiment eu\n",
       "date                                  \n",
       "2007-04-01    117.499994         112.3\n",
       "2007-05-01    116.797739         112.6\n",
       "2007-06-01    117.108608         112.5\n",
       "2007-07-01    117.698923         111.9\n",
       "2007-08-01    117.843179         110.9\n",
       "...                  ...           ...\n",
       "2020-06-01     57.700856          74.9\n",
       "2020-07-01     78.252529          81.8\n",
       "2020-08-01     79.930654          86.8\n",
       "2020-09-01     80.160834          90.0\n",
       "2020-10-01     89.618791          90.0\n",
       "\n",
       "[163 rows x 2 columns]"
      ]
     },
     "execution_count": 18,
     "metadata": {},
     "output_type": "execute_result"
    }
   ],
   "source": [
    "df_eco_raw.dropna()"
   ]
  },
  {
   "cell_type": "code",
   "execution_count": 19,
   "metadata": {},
   "outputs": [],
   "source": [
    "date_min = min(df_eco_raw.dropna().index)"
   ]
  },
  {
   "cell_type": "code",
   "execution_count": 20,
   "metadata": {},
   "outputs": [
    {
     "data": {
      "text/html": [
       "<div>\n",
       "<style scoped>\n",
       "    .dataframe tbody tr th:only-of-type {\n",
       "        vertical-align: middle;\n",
       "    }\n",
       "\n",
       "    .dataframe tbody tr th {\n",
       "        vertical-align: top;\n",
       "    }\n",
       "\n",
       "    .dataframe thead th {\n",
       "        text-align: right;\n",
       "    }\n",
       "</style>\n",
       "<table border=\"1\" class=\"dataframe\">\n",
       "  <thead>\n",
       "    <tr style=\"text-align: right;\">\n",
       "      <th></th>\n",
       "      <th>sentiment ch</th>\n",
       "      <th>sentiment eu</th>\n",
       "    </tr>\n",
       "    <tr>\n",
       "      <th>date</th>\n",
       "      <th></th>\n",
       "      <th></th>\n",
       "    </tr>\n",
       "  </thead>\n",
       "  <tbody>\n",
       "    <tr>\n",
       "      <th>2007-04-01</th>\n",
       "      <td>117.499994</td>\n",
       "      <td>112.3</td>\n",
       "    </tr>\n",
       "    <tr>\n",
       "      <th>2007-05-01</th>\n",
       "      <td>116.797739</td>\n",
       "      <td>112.6</td>\n",
       "    </tr>\n",
       "    <tr>\n",
       "      <th>2007-06-01</th>\n",
       "      <td>117.108608</td>\n",
       "      <td>112.5</td>\n",
       "    </tr>\n",
       "    <tr>\n",
       "      <th>2007-07-01</th>\n",
       "      <td>117.698923</td>\n",
       "      <td>111.9</td>\n",
       "    </tr>\n",
       "    <tr>\n",
       "      <th>2007-08-01</th>\n",
       "      <td>117.843179</td>\n",
       "      <td>110.9</td>\n",
       "    </tr>\n",
       "    <tr>\n",
       "      <th>...</th>\n",
       "      <td>...</td>\n",
       "      <td>...</td>\n",
       "    </tr>\n",
       "    <tr>\n",
       "      <th>2020-07-01</th>\n",
       "      <td>78.252529</td>\n",
       "      <td>81.8</td>\n",
       "    </tr>\n",
       "    <tr>\n",
       "      <th>2020-08-01</th>\n",
       "      <td>79.930654</td>\n",
       "      <td>86.8</td>\n",
       "    </tr>\n",
       "    <tr>\n",
       "      <th>2020-09-01</th>\n",
       "      <td>80.160834</td>\n",
       "      <td>90.0</td>\n",
       "    </tr>\n",
       "    <tr>\n",
       "      <th>2020-10-01</th>\n",
       "      <td>89.618791</td>\n",
       "      <td>90.0</td>\n",
       "    </tr>\n",
       "    <tr>\n",
       "      <th>2020-11-01</th>\n",
       "      <td>88.711065</td>\n",
       "      <td>NaN</td>\n",
       "    </tr>\n",
       "  </tbody>\n",
       "</table>\n",
       "<p>164 rows × 2 columns</p>\n",
       "</div>"
      ],
      "text/plain": [
       "            sentiment ch  sentiment eu\n",
       "date                                  \n",
       "2007-04-01    117.499994         112.3\n",
       "2007-05-01    116.797739         112.6\n",
       "2007-06-01    117.108608         112.5\n",
       "2007-07-01    117.698923         111.9\n",
       "2007-08-01    117.843179         110.9\n",
       "...                  ...           ...\n",
       "2020-07-01     78.252529          81.8\n",
       "2020-08-01     79.930654          86.8\n",
       "2020-09-01     80.160834          90.0\n",
       "2020-10-01     89.618791          90.0\n",
       "2020-11-01     88.711065           NaN\n",
       "\n",
       "[164 rows x 2 columns]"
      ]
     },
     "execution_count": 20,
     "metadata": {},
     "output_type": "execute_result"
    }
   ],
   "source": [
    "df_eco_raw[df_eco_raw.index.date >= date_min]"
   ]
  },
  {
   "cell_type": "code",
   "execution_count": 21,
   "metadata": {},
   "outputs": [],
   "source": [
    "df_eco_raw = df_eco_raw.dropna().copy()"
   ]
  },
  {
   "cell_type": "code",
   "execution_count": 22,
   "metadata": {},
   "outputs": [
    {
     "data": {
      "text/html": [
       "<div>\n",
       "<style scoped>\n",
       "    .dataframe tbody tr th:only-of-type {\n",
       "        vertical-align: middle;\n",
       "    }\n",
       "\n",
       "    .dataframe tbody tr th {\n",
       "        vertical-align: top;\n",
       "    }\n",
       "\n",
       "    .dataframe thead th {\n",
       "        text-align: right;\n",
       "    }\n",
       "</style>\n",
       "<table border=\"1\" class=\"dataframe\">\n",
       "  <thead>\n",
       "    <tr style=\"text-align: right;\">\n",
       "      <th></th>\n",
       "      <th>sentiment ch</th>\n",
       "      <th>sentiment eu</th>\n",
       "    </tr>\n",
       "    <tr>\n",
       "      <th>date</th>\n",
       "      <th></th>\n",
       "      <th></th>\n",
       "    </tr>\n",
       "  </thead>\n",
       "  <tbody>\n",
       "    <tr>\n",
       "      <th>2007-04-01</th>\n",
       "      <td>117.499994</td>\n",
       "      <td>112.3</td>\n",
       "    </tr>\n",
       "    <tr>\n",
       "      <th>2007-05-01</th>\n",
       "      <td>116.797739</td>\n",
       "      <td>112.6</td>\n",
       "    </tr>\n",
       "    <tr>\n",
       "      <th>2007-06-01</th>\n",
       "      <td>117.108608</td>\n",
       "      <td>112.5</td>\n",
       "    </tr>\n",
       "    <tr>\n",
       "      <th>2007-07-01</th>\n",
       "      <td>117.698923</td>\n",
       "      <td>111.9</td>\n",
       "    </tr>\n",
       "    <tr>\n",
       "      <th>2007-08-01</th>\n",
       "      <td>117.843179</td>\n",
       "      <td>110.9</td>\n",
       "    </tr>\n",
       "    <tr>\n",
       "      <th>...</th>\n",
       "      <td>...</td>\n",
       "      <td>...</td>\n",
       "    </tr>\n",
       "    <tr>\n",
       "      <th>2020-06-01</th>\n",
       "      <td>57.700856</td>\n",
       "      <td>74.9</td>\n",
       "    </tr>\n",
       "    <tr>\n",
       "      <th>2020-07-01</th>\n",
       "      <td>78.252529</td>\n",
       "      <td>81.8</td>\n",
       "    </tr>\n",
       "    <tr>\n",
       "      <th>2020-08-01</th>\n",
       "      <td>79.930654</td>\n",
       "      <td>86.8</td>\n",
       "    </tr>\n",
       "    <tr>\n",
       "      <th>2020-09-01</th>\n",
       "      <td>80.160834</td>\n",
       "      <td>90.0</td>\n",
       "    </tr>\n",
       "    <tr>\n",
       "      <th>2020-10-01</th>\n",
       "      <td>89.618791</td>\n",
       "      <td>90.0</td>\n",
       "    </tr>\n",
       "  </tbody>\n",
       "</table>\n",
       "<p>163 rows × 2 columns</p>\n",
       "</div>"
      ],
      "text/plain": [
       "            sentiment ch  sentiment eu\n",
       "date                                  \n",
       "2007-04-01    117.499994         112.3\n",
       "2007-05-01    116.797739         112.6\n",
       "2007-06-01    117.108608         112.5\n",
       "2007-07-01    117.698923         111.9\n",
       "2007-08-01    117.843179         110.9\n",
       "...                  ...           ...\n",
       "2020-06-01     57.700856          74.9\n",
       "2020-07-01     78.252529          81.8\n",
       "2020-08-01     79.930654          86.8\n",
       "2020-09-01     80.160834          90.0\n",
       "2020-10-01     89.618791          90.0\n",
       "\n",
       "[163 rows x 2 columns]"
      ]
     },
     "execution_count": 22,
     "metadata": {},
     "output_type": "execute_result"
    }
   ],
   "source": [
    "df_eco_raw"
   ]
  },
  {
   "cell_type": "code",
   "execution_count": 23,
   "metadata": {},
   "outputs": [],
   "source": [
    "df_baro_raw = pd.read_excel(allxlsx[1],parse_dates = True,index_col = 0 )"
   ]
  },
  {
   "cell_type": "code",
   "execution_count": 24,
   "metadata": {},
   "outputs": [
    {
     "data": {
      "text/html": [
       "<div>\n",
       "<style scoped>\n",
       "    .dataframe tbody tr th:only-of-type {\n",
       "        vertical-align: middle;\n",
       "    }\n",
       "\n",
       "    .dataframe tbody tr th {\n",
       "        vertical-align: top;\n",
       "    }\n",
       "\n",
       "    .dataframe thead th {\n",
       "        text-align: right;\n",
       "    }\n",
       "</style>\n",
       "<table border=\"1\" class=\"dataframe\">\n",
       "  <thead>\n",
       "    <tr style=\"text-align: right;\">\n",
       "      <th></th>\n",
       "      <th>kofbarometer</th>\n",
       "    </tr>\n",
       "    <tr>\n",
       "      <th>date</th>\n",
       "      <th></th>\n",
       "    </tr>\n",
       "  </thead>\n",
       "  <tbody>\n",
       "    <tr>\n",
       "      <th>1991-01-01</th>\n",
       "      <td>78.275945</td>\n",
       "    </tr>\n",
       "    <tr>\n",
       "      <th>1991-02-01</th>\n",
       "      <td>69.256217</td>\n",
       "    </tr>\n",
       "    <tr>\n",
       "      <th>1991-03-01</th>\n",
       "      <td>69.463534</td>\n",
       "    </tr>\n",
       "    <tr>\n",
       "      <th>1991-04-01</th>\n",
       "      <td>78.027456</td>\n",
       "    </tr>\n",
       "    <tr>\n",
       "      <th>1991-05-01</th>\n",
       "      <td>77.920725</td>\n",
       "    </tr>\n",
       "    <tr>\n",
       "      <th>...</th>\n",
       "      <td>...</td>\n",
       "    </tr>\n",
       "    <tr>\n",
       "      <th>2020-06-01</th>\n",
       "      <td>65.207427</td>\n",
       "    </tr>\n",
       "    <tr>\n",
       "      <th>2020-07-01</th>\n",
       "      <td>86.984889</td>\n",
       "    </tr>\n",
       "    <tr>\n",
       "      <th>2020-08-01</th>\n",
       "      <td>107.645407</td>\n",
       "    </tr>\n",
       "    <tr>\n",
       "      <th>2020-09-01</th>\n",
       "      <td>110.107743</td>\n",
       "    </tr>\n",
       "    <tr>\n",
       "      <th>2020-10-01</th>\n",
       "      <td>106.592883</td>\n",
       "    </tr>\n",
       "  </tbody>\n",
       "</table>\n",
       "<p>358 rows × 1 columns</p>\n",
       "</div>"
      ],
      "text/plain": [
       "            kofbarometer\n",
       "date                    \n",
       "1991-01-01     78.275945\n",
       "1991-02-01     69.256217\n",
       "1991-03-01     69.463534\n",
       "1991-04-01     78.027456\n",
       "1991-05-01     77.920725\n",
       "...                  ...\n",
       "2020-06-01     65.207427\n",
       "2020-07-01     86.984889\n",
       "2020-08-01    107.645407\n",
       "2020-09-01    110.107743\n",
       "2020-10-01    106.592883\n",
       "\n",
       "[358 rows x 1 columns]"
      ]
     },
     "execution_count": 24,
     "metadata": {},
     "output_type": "execute_result"
    }
   ],
   "source": [
    "df_baro_raw"
   ]
  },
  {
   "cell_type": "code",
   "execution_count": 25,
   "metadata": {},
   "outputs": [
    {
     "data": {
      "text/plain": [
       "kofbarometer    0\n",
       "dtype: int64"
      ]
     },
     "execution_count": 25,
     "metadata": {},
     "output_type": "execute_result"
    }
   ],
   "source": [
    "df_baro_raw.isna().sum()"
   ]
  },
  {
   "cell_type": "code",
   "execution_count": 26,
   "metadata": {},
   "outputs": [],
   "source": [
    "df_mcp_raw = pd.read_excel(allxlsx[2],parse_dates = True,index_col = 0 )"
   ]
  },
  {
   "cell_type": "code",
   "execution_count": 27,
   "metadata": {},
   "outputs": [],
   "source": [
    "df_mcp_raw.columns = ['kof mpc']"
   ]
  },
  {
   "cell_type": "code",
   "execution_count": 28,
   "metadata": {},
   "outputs": [
    {
     "data": {
      "text/plain": [
       "kof mpc    4\n",
       "dtype: int64"
      ]
     },
     "execution_count": 28,
     "metadata": {},
     "output_type": "execute_result"
    }
   ],
   "source": [
    "df_mcp_raw.isna().sum()"
   ]
  },
  {
   "cell_type": "code",
   "execution_count": 29,
   "metadata": {},
   "outputs": [
    {
     "data": {
      "text/html": [
       "<div>\n",
       "<style scoped>\n",
       "    .dataframe tbody tr th:only-of-type {\n",
       "        vertical-align: middle;\n",
       "    }\n",
       "\n",
       "    .dataframe tbody tr th {\n",
       "        vertical-align: top;\n",
       "    }\n",
       "\n",
       "    .dataframe thead th {\n",
       "        text-align: right;\n",
       "    }\n",
       "</style>\n",
       "<table border=\"1\" class=\"dataframe\">\n",
       "  <thead>\n",
       "    <tr style=\"text-align: right;\">\n",
       "      <th></th>\n",
       "      <th>kof mpc</th>\n",
       "    </tr>\n",
       "    <tr>\n",
       "      <th>date</th>\n",
       "      <th></th>\n",
       "    </tr>\n",
       "  </thead>\n",
       "  <tbody>\n",
       "    <tr>\n",
       "      <th>1999-12-01</th>\n",
       "      <td>NaN</td>\n",
       "    </tr>\n",
       "    <tr>\n",
       "      <th>2020-09-01</th>\n",
       "      <td>NaN</td>\n",
       "    </tr>\n",
       "    <tr>\n",
       "      <th>2020-10-01</th>\n",
       "      <td>NaN</td>\n",
       "    </tr>\n",
       "    <tr>\n",
       "      <th>2020-12-01</th>\n",
       "      <td>NaN</td>\n",
       "    </tr>\n",
       "  </tbody>\n",
       "</table>\n",
       "</div>"
      ],
      "text/plain": [
       "            kof mpc\n",
       "date               \n",
       "1999-12-01      NaN\n",
       "2020-09-01      NaN\n",
       "2020-10-01      NaN\n",
       "2020-12-01      NaN"
      ]
     },
     "execution_count": 29,
     "metadata": {},
     "output_type": "execute_result"
    }
   ],
   "source": [
    "df_mcp_raw[df_mcp_raw['kof mpc'].isna()]"
   ]
  },
  {
   "cell_type": "code",
   "execution_count": 30,
   "metadata": {},
   "outputs": [],
   "source": [
    "df_mcp_raw = df_mcp_raw.dropna().copy()"
   ]
  },
  {
   "cell_type": "code",
   "execution_count": 31,
   "metadata": {},
   "outputs": [
    {
     "data": {
      "text/html": [
       "<div>\n",
       "<style scoped>\n",
       "    .dataframe tbody tr th:only-of-type {\n",
       "        vertical-align: middle;\n",
       "    }\n",
       "\n",
       "    .dataframe tbody tr th {\n",
       "        vertical-align: top;\n",
       "    }\n",
       "\n",
       "    .dataframe thead th {\n",
       "        text-align: right;\n",
       "    }\n",
       "</style>\n",
       "<table border=\"1\" class=\"dataframe\">\n",
       "  <thead>\n",
       "    <tr style=\"text-align: right;\">\n",
       "      <th></th>\n",
       "      <th>kof mpc</th>\n",
       "    </tr>\n",
       "    <tr>\n",
       "      <th>date</th>\n",
       "      <th></th>\n",
       "    </tr>\n",
       "  </thead>\n",
       "  <tbody>\n",
       "    <tr>\n",
       "      <th>1999-01-01</th>\n",
       "      <td>-0.333333</td>\n",
       "    </tr>\n",
       "    <tr>\n",
       "      <th>1999-02-01</th>\n",
       "      <td>-0.300000</td>\n",
       "    </tr>\n",
       "    <tr>\n",
       "      <th>1999-03-01</th>\n",
       "      <td>-0.142857</td>\n",
       "    </tr>\n",
       "    <tr>\n",
       "      <th>1999-04-01</th>\n",
       "      <td>0.125000</td>\n",
       "    </tr>\n",
       "    <tr>\n",
       "      <th>1999-05-01</th>\n",
       "      <td>0.000000</td>\n",
       "    </tr>\n",
       "    <tr>\n",
       "      <th>...</th>\n",
       "      <td>...</td>\n",
       "    </tr>\n",
       "    <tr>\n",
       "      <th>2020-01-01</th>\n",
       "      <td>0.315789</td>\n",
       "    </tr>\n",
       "    <tr>\n",
       "      <th>2020-03-01</th>\n",
       "      <td>0.210526</td>\n",
       "    </tr>\n",
       "    <tr>\n",
       "      <th>2020-04-01</th>\n",
       "      <td>-0.350000</td>\n",
       "    </tr>\n",
       "    <tr>\n",
       "      <th>2020-06-01</th>\n",
       "      <td>-0.741935</td>\n",
       "    </tr>\n",
       "    <tr>\n",
       "      <th>2020-07-01</th>\n",
       "      <td>-0.375000</td>\n",
       "    </tr>\n",
       "  </tbody>\n",
       "</table>\n",
       "<p>230 rows × 1 columns</p>\n",
       "</div>"
      ],
      "text/plain": [
       "             kof mpc\n",
       "date                \n",
       "1999-01-01 -0.333333\n",
       "1999-02-01 -0.300000\n",
       "1999-03-01 -0.142857\n",
       "1999-04-01  0.125000\n",
       "1999-05-01  0.000000\n",
       "...              ...\n",
       "2020-01-01  0.315789\n",
       "2020-03-01  0.210526\n",
       "2020-04-01 -0.350000\n",
       "2020-06-01 -0.741935\n",
       "2020-07-01 -0.375000\n",
       "\n",
       "[230 rows x 1 columns]"
      ]
     },
     "execution_count": 31,
     "metadata": {},
     "output_type": "execute_result"
    }
   ],
   "source": [
    "df_mcp_raw"
   ]
  },
  {
   "cell_type": "code",
   "execution_count": 32,
   "metadata": {},
   "outputs": [
    {
     "data": {
      "text/html": [
       "<div>\n",
       "<style scoped>\n",
       "    .dataframe tbody tr th:only-of-type {\n",
       "        vertical-align: middle;\n",
       "    }\n",
       "\n",
       "    .dataframe tbody tr th {\n",
       "        vertical-align: top;\n",
       "    }\n",
       "\n",
       "    .dataframe thead th {\n",
       "        text-align: right;\n",
       "    }\n",
       "</style>\n",
       "<table border=\"1\" class=\"dataframe\">\n",
       "  <thead>\n",
       "    <tr style=\"text-align: right;\">\n",
       "      <th></th>\n",
       "      <th>kof mpc</th>\n",
       "    </tr>\n",
       "    <tr>\n",
       "      <th>date</th>\n",
       "      <th></th>\n",
       "    </tr>\n",
       "  </thead>\n",
       "  <tbody>\n",
       "    <tr>\n",
       "      <th>2006-08-01</th>\n",
       "      <td>0.333333</td>\n",
       "    </tr>\n",
       "    <tr>\n",
       "      <th>2006-08-01</th>\n",
       "      <td>0.241379</td>\n",
       "    </tr>\n",
       "  </tbody>\n",
       "</table>\n",
       "</div>"
      ],
      "text/plain": [
       "             kof mpc\n",
       "date                \n",
       "2006-08-01  0.333333\n",
       "2006-08-01  0.241379"
      ]
     },
     "execution_count": 32,
     "metadata": {},
     "output_type": "execute_result"
    }
   ],
   "source": [
    "df_mcp_raw.loc['2006-08-01']"
   ]
  },
  {
   "cell_type": "code",
   "execution_count": 33,
   "metadata": {},
   "outputs": [
    {
     "data": {
      "text/plain": [
       "4"
      ]
     },
     "execution_count": 33,
     "metadata": {},
     "output_type": "execute_result"
    }
   ],
   "source": [
    "(pd.Series(df_mcp_raw.index).value_counts() == 2).sum()"
   ]
  },
  {
   "cell_type": "markdown",
   "metadata": {},
   "source": [
    "## Data expension"
   ]
  },
  {
   "cell_type": "code",
   "execution_count": 34,
   "metadata": {},
   "outputs": [],
   "source": [
    "\n",
    "def expand_data(dt):\n",
    "    '''\n",
    "        Upsample the dataframe to daily dat\n",
    "        \n",
    "         parameters\n",
    "        ------------\n",
    "        dt: pandas df\n",
    "        \n",
    "        Return\n",
    "        ------------\n",
    "        df: pandas df\n",
    "        \n",
    "    '''\n",
    "    \n",
    "    df = dt.copy()\n",
    "    date = max(df.index)\n",
    "    d = datetime.datetime.strptime(str(date), '%Y-%m-%d %H:%M:%S')\n",
    "    date = date.replace(month = d.month + 1 , day = 1)\n",
    "    \n",
    "    df.loc[date] = np.nan\n",
    "    df = df.resample('D').last().ffill().copy()\n",
    "    df = df.drop( date, axis = 0).copy()\n",
    "    \n",
    "    return df"
   ]
  },
  {
   "cell_type": "code",
   "execution_count": 35,
   "metadata": {},
   "outputs": [],
   "source": [
    "df_baro_clean = expand_data(df_baro_raw)\n",
    "\n",
    "df_mcp_clean = expand_data(df_mcp_raw)\n",
    "\n",
    "df_eco_clean = expand_data(df_eco_raw)"
   ]
  },
  {
   "cell_type": "markdown",
   "metadata": {},
   "source": [
    "## Clean data"
   ]
  },
  {
   "cell_type": "code",
   "execution_count": 36,
   "metadata": {},
   "outputs": [],
   "source": [
    "data = yields_clean.join([df_mcp_clean, df_baro_clean,df_eco_clean] ).dropna()"
   ]
  },
  {
   "cell_type": "code",
   "execution_count": 37,
   "metadata": {},
   "outputs": [],
   "source": [
    "col = ['sentiment eu','sentiment ch', 'kofbarometer','kof mpc', '1J', '2J', '3J', '4J', '5J', '6J', '7J', '8J', '9J', '10J', '15J', '20J', '30J']\n"
   ]
  },
  {
   "cell_type": "code",
   "execution_count": 38,
   "metadata": {},
   "outputs": [],
   "source": [
    "data = data[col].copy()"
   ]
  },
  {
   "cell_type": "code",
   "execution_count": 39,
   "metadata": {},
   "outputs": [],
   "source": [
    "data.to_csv('/Users/franckatteaka/Desktop/cours/Semester III/Courses Projects/Machine Learning/Data/data_clean.csv')"
   ]
  },
  {
   "cell_type": "code",
   "execution_count": null,
   "metadata": {},
   "outputs": [],
   "source": []
  }
 ],
 "metadata": {
  "kernelspec": {
   "display_name": "Python 3",
   "language": "python",
   "name": "python3"
  },
  "language_info": {
   "codemirror_mode": {
    "name": "ipython",
    "version": 3
   },
   "file_extension": ".py",
   "mimetype": "text/x-python",
   "name": "python",
   "nbconvert_exporter": "python",
   "pygments_lexer": "ipython3",
   "version": "3.7.7"
  }
 },
 "nbformat": 4,
 "nbformat_minor": 4
}
